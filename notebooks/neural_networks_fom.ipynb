{
 "cells": [
  {
   "cell_type": "markdown",
   "id": "5a18f65e-59ef-4637-b309-2d7acb0c3e4f",
   "metadata": {},
   "source": [
    "## Neural Network Approach For Functions Of Matrices"
   ]
  },
  {
   "cell_type": "code",
   "execution_count": 1,
   "id": "7c09a2d2-4877-4a50-853b-7c3038303eaf",
   "metadata": {},
   "outputs": [],
   "source": [
    "import torch\n",
    "import torch.nn as nn\n",
    "import torch.optim as optim\n",
    "from torch.nn import functional as F\n",
    "\n",
    "import numpy as np\n",
    "from scipy.linalg import expm\n",
    "import math\n",
    "\n",
    "import matplotlib.pyplot as plt\n",
    "\n",
    "import csv\n",
    "import os\n",
    "\n",
    "import datetime"
   ]
  },
  {
   "cell_type": "code",
   "execution_count": 2,
   "id": "dfd27c9e-0da7-482b-8b09-4bdc54360664",
   "metadata": {},
   "outputs": [],
   "source": [
    "ID = datetime.datetime.strftime(datetime.datetime.now(),'%Y%M%d%s')"
   ]
  },
  {
   "cell_type": "code",
   "execution_count": 3,
   "id": "44205ff2-6f0c-43ae-bbab-8f01acca0aa8",
   "metadata": {},
   "outputs": [],
   "source": [
    "# Create a directory for saving results\n",
    "save_dir = os.path.join(os.getcwd(), 'matrix_exp_results', ID)\n",
    "os.makedirs(save_dir, exist_ok=True)"
   ]
  },
  {
   "cell_type": "code",
   "execution_count": 4,
   "id": "d344e133-2ad1-43c6-8199-051ebe1c357a",
   "metadata": {},
   "outputs": [
    {
     "name": "stdout",
     "output_type": "stream",
     "text": [
      "Using device: cuda\n"
     ]
    }
   ],
   "source": [
    "# Check if CUDA is available and set the device\n",
    "device = torch.device(\"cuda\" if torch.cuda.is_available() else \"cpu\")\n",
    "print(f\"Using device: {device}\")"
   ]
  },
  {
   "cell_type": "code",
   "execution_count": 5,
   "id": "7ee4db68-389c-4782-928e-0d6aa70cc6b1",
   "metadata": {},
   "outputs": [],
   "source": [
    "# Define the neural network\n",
    "class MatrixExponentialNet(nn.Module):\n",
    "    def __init__(self, input_size):\n",
    "        super(MatrixExponentialNet, self).__init__()\n",
    "        self.fc1 = nn.Linear(input_size, 128)\n",
    "        self.fc2 = nn.Linear(128, 256)\n",
    "        self.fc3 = nn.Linear(256, 128)\n",
    "        self.fc4 = nn.Linear(128, input_size)\n",
    "        self.relu = nn.ReLU()\n",
    "\n",
    "    def forward(self, x):\n",
    "        x = self.relu(self.fc1(x))\n",
    "        x = self.relu(self.fc2(x))\n",
    "        x = self.relu(self.fc3(x))\n",
    "        x = self.fc4(x)\n",
    "        return x"
   ]
  },
  {
   "cell_type": "code",
   "execution_count": 6,
   "id": "d6930299-80bc-49a0-8170-8bd411528c6a",
   "metadata": {},
   "outputs": [],
   "source": [
    "# Set random seed for reproducibility\n",
    "torch.manual_seed(42)\n",
    "np.random.seed(42)\n"
   ]
  },
  {
   "cell_type": "code",
   "execution_count": 7,
   "id": "df5969f2-2ad8-41c7-82cb-3214c4278191",
   "metadata": {},
   "outputs": [],
   "source": [
    "# Define input size (5x5 matrix flattened)\n",
    "input_size = 5 * 5"
   ]
  },
  {
   "cell_type": "code",
   "execution_count": 8,
   "id": "78c42f91-27a8-4341-8a6c-25af02fe0f98",
   "metadata": {},
   "outputs": [],
   "source": [
    "# params\n",
    "distribution = \"gaussian\" # or uniform\n",
    "matrix_type = \"wigner\"\n",
    "coeff_lower = 0 \n",
    "coeff_upper = 2\n",
    "\n",
    "lr = 1e-5 # learning rate"
   ]
  },
  {
   "cell_type": "code",
   "execution_count": 9,
   "id": "d7c99e62-9299-40ad-beb0-818c3d5dc1c9",
   "metadata": {},
   "outputs": [],
   "source": [
    "# Create the model and move it to GPU\n",
    "model = MatrixExponentialNet(input_size).to(device)"
   ]
  },
  {
   "cell_type": "code",
   "execution_count": 10,
   "id": "f5527562-e644-4c78-a8cf-ba537115251f",
   "metadata": {},
   "outputs": [
    {
     "name": "stdout",
     "output_type": "stream",
     "text": [
      "test=tensor([-2226.3259, -3185.2048, -1501.0999,  -121.7280, -9121.1221])\n"
     ]
    },
    {
     "data": {
      "text/plain": [
       "tensor([0.8739, 0.3617, 0.5492, 0.7132, 0.8813])"
      ]
     },
     "execution_count": 10,
     "metadata": {},
     "output_type": "execute_result"
    }
   ],
   "source": [
    "test = torch.randn(5)*5000\n",
    "print(f\"{test=}\")\n",
    "torch.abs(torch.sin(torch.abs(test)))"
   ]
  },
  {
   "cell_type": "code",
   "execution_count": 11,
   "id": "562db912-e690-45fd-9e8d-e1d8ef91d741",
   "metadata": {},
   "outputs": [],
   "source": [
    "class MatrixLoss(nn.Module):\n",
    "    def __init__(self, dim=5):\n",
    "        super(MatrixLoss, self).__init__()\n",
    "        self.dim = dim\n",
    "\n",
    "    def forward(self, pred, target):\n",
    "        e = pred - target\n",
    "        e_reshaped = e.view(-1, self.dim, self.dim)\n",
    "        \n",
    "        max_abs = torch.max(torch.abs(e_reshaped).view(e_reshaped.size(0), -1), dim=1)[0]\n",
    "        sum_abs = torch.sum(torch.abs(e_reshaped), dim=(1,2)) / self.dim\n",
    "        trace = torch.sum(e_reshaped ** 2, dim=(1,2)) / self.dim\n",
    "        \n",
    "        loss = max_abs + sum_abs + trace\n",
    "        loss = loss.mean()\n",
    "        return F.log_softmax(loss)"
   ]
  },
  {
   "cell_type": "code",
   "execution_count": 12,
   "id": "fca1ba6b-cf28-42fb-af05-e69269a24ed3",
   "metadata": {},
   "outputs": [],
   "source": [
    "class FrobeniusNormLoss(nn.Module):\n",
    "    def __init__(self):\n",
    "        super(FrobeniusNormLoss, self).__init__()\n",
    "\n",
    "    def forward(self, pred, target):\n",
    "        return torch.norm(pred - target, p='fro')"
   ]
  },
  {
   "cell_type": "code",
   "execution_count": 13,
   "id": "39cc9ff4-3baf-4e1b-85f3-149cb616d41c",
   "metadata": {},
   "outputs": [],
   "source": [
    "class LogFrobeniusNormLoss(nn.Module):\n",
    "    def __init__(self, eps=1e-8):\n",
    "        super(LogFrobeniusNormLoss, self).__init__()\n",
    "        self.eps = eps\n",
    "\n",
    "    def forward(self, pred, target):\n",
    "        frob_norm = torch.norm(pred - target, p='fro')\n",
    "        return torch.log(frob_norm + self.eps)"
   ]
  },
  {
   "cell_type": "code",
   "execution_count": 14,
   "id": "1aee4c37-28c9-4fbd-bd59-5541252df010",
   "metadata": {},
   "outputs": [],
   "source": [
    "# Define loss function and optimizer\n",
    "# criterion = nn.MSELoss()\n",
    "# criterion = MatrixLoss(dim=5)\n",
    "# criterion = nn.CrossEntropyLoss()\n",
    "# criterion = log_cosh_loss\n",
    "# criterion = nn.HuberLoss()\n",
    "# criterion = FrobeniusNormLoss()\n",
    "criterion = LogFrobeniusNormLoss()\n",
    "optimizer = optim.Adam(model.parameters(), lr=lr)"
   ]
  },
  {
   "cell_type": "code",
   "execution_count": 15,
   "id": "0eb4f07e-f323-4909-ba56-baffa113d808",
   "metadata": {},
   "outputs": [],
   "source": [
    "# Function to compute matrix exponential\n",
    "def matrix_exponential(batch_matrices):\n",
    "    return np.array([expm(A) for A in batch_matrices])"
   ]
  },
  {
   "cell_type": "code",
   "execution_count": 16,
   "id": "b1fbace4-69ec-4f72-b469-86abd89a09b5",
   "metadata": {},
   "outputs": [],
   "source": [
    "# Training loop\n",
    "num_epochs = 100000\n",
    "batch_size = 64"
   ]
  },
  {
   "cell_type": "code",
   "execution_count": 17,
   "id": "8d4f019f-7066-4062-b731-a22ff459cdf3",
   "metadata": {},
   "outputs": [],
   "source": [
    "# Lists to store loss values for plotting\n",
    "train_losses = []\n",
    "val_losses = []"
   ]
  },
  {
   "cell_type": "code",
   "execution_count": 18,
   "id": "1ee45a1a-def1-48f6-a8a8-efc284f8acdb",
   "metadata": {},
   "outputs": [
    {
     "name": "stdout",
     "output_type": "stream",
     "text": [
      "Epoch [1000/100000], Train Loss: 7.7080, Val Loss: 5.0685\n",
      "Epoch [2000/100000], Train Loss: 7.1899, Val Loss: 5.4148\n",
      "Epoch [3000/100000], Train Loss: 8.7711, Val Loss: 5.6123\n",
      "Epoch [4000/100000], Train Loss: 6.9972, Val Loss: 5.6543\n",
      "Epoch [5000/100000], Train Loss: 8.1469, Val Loss: 5.8414\n",
      "Epoch [6000/100000], Train Loss: 7.5015, Val Loss: 5.8709\n",
      "Epoch [7000/100000], Train Loss: 6.8674, Val Loss: 5.6896\n",
      "Epoch [8000/100000], Train Loss: 7.0479, Val Loss: 5.6991\n",
      "Epoch [9000/100000], Train Loss: 8.6625, Val Loss: 5.6326\n",
      "Epoch [10000/100000], Train Loss: 6.2787, Val Loss: 5.7635\n",
      "Epoch [11000/100000], Train Loss: 7.1605, Val Loss: 5.6525\n",
      "Epoch [12000/100000], Train Loss: 6.4982, Val Loss: 5.6664\n",
      "Epoch [13000/100000], Train Loss: 7.0931, Val Loss: 5.6606\n",
      "Epoch [14000/100000], Train Loss: 6.5308, Val Loss: 5.6096\n",
      "Epoch [15000/100000], Train Loss: 6.9670, Val Loss: 5.7206\n",
      "Epoch [16000/100000], Train Loss: 6.8534, Val Loss: 5.7855\n",
      "Epoch [17000/100000], Train Loss: 7.5292, Val Loss: 5.9282\n",
      "Epoch [18000/100000], Train Loss: 5.8907, Val Loss: 5.7686\n",
      "Epoch [19000/100000], Train Loss: 7.9422, Val Loss: 5.6323\n",
      "Epoch [20000/100000], Train Loss: 6.4227, Val Loss: 5.7948\n",
      "Epoch [21000/100000], Train Loss: 6.6831, Val Loss: 5.6858\n",
      "Epoch [22000/100000], Train Loss: 6.3283, Val Loss: 5.6923\n",
      "Epoch [23000/100000], Train Loss: 7.5281, Val Loss: 5.7310\n",
      "Epoch [24000/100000], Train Loss: 6.4780, Val Loss: 5.7982\n",
      "Epoch [25000/100000], Train Loss: 6.7955, Val Loss: 5.7074\n",
      "Epoch [26000/100000], Train Loss: 7.0592, Val Loss: 5.7222\n",
      "Epoch [27000/100000], Train Loss: 7.4799, Val Loss: 5.8025\n",
      "Epoch [28000/100000], Train Loss: 8.3760, Val Loss: 5.7830\n",
      "Epoch [29000/100000], Train Loss: 7.0762, Val Loss: 5.7834\n",
      "Epoch [30000/100000], Train Loss: 6.8601, Val Loss: 5.7558\n",
      "Epoch [31000/100000], Train Loss: 6.2309, Val Loss: 5.7907\n",
      "Epoch [32000/100000], Train Loss: 7.6558, Val Loss: 5.9050\n",
      "Epoch [33000/100000], Train Loss: 8.2583, Val Loss: 5.6916\n",
      "Epoch [34000/100000], Train Loss: 6.6387, Val Loss: 5.8048\n",
      "Epoch [35000/100000], Train Loss: 8.4895, Val Loss: 5.8166\n",
      "Epoch [36000/100000], Train Loss: 7.5594, Val Loss: 5.8338\n",
      "Epoch [37000/100000], Train Loss: 7.2983, Val Loss: 5.7701\n",
      "Epoch [38000/100000], Train Loss: 7.6104, Val Loss: 5.8503\n",
      "Epoch [39000/100000], Train Loss: 7.2545, Val Loss: 5.9455\n",
      "Epoch [40000/100000], Train Loss: 7.1050, Val Loss: 5.8708\n",
      "Epoch [41000/100000], Train Loss: 8.2823, Val Loss: 5.8808\n",
      "Epoch [42000/100000], Train Loss: 8.0243, Val Loss: 5.7395\n",
      "Epoch [43000/100000], Train Loss: 8.4065, Val Loss: 5.9115\n",
      "Epoch [44000/100000], Train Loss: 6.7628, Val Loss: 5.9406\n",
      "Epoch [45000/100000], Train Loss: 7.8461, Val Loss: 5.7763\n",
      "Epoch [46000/100000], Train Loss: 8.0041, Val Loss: 5.8742\n",
      "Epoch [47000/100000], Train Loss: 7.1263, Val Loss: 5.8723\n",
      "Epoch [48000/100000], Train Loss: 6.9389, Val Loss: 5.8064\n",
      "Epoch [49000/100000], Train Loss: 5.4888, Val Loss: 5.8956\n",
      "Epoch [50000/100000], Train Loss: 8.2242, Val Loss: 5.8083\n",
      "Epoch [51000/100000], Train Loss: 5.5419, Val Loss: 5.8051\n",
      "Epoch [52000/100000], Train Loss: 7.2386, Val Loss: 5.9894\n",
      "Epoch [53000/100000], Train Loss: 8.4463, Val Loss: 5.7708\n",
      "Epoch [54000/100000], Train Loss: 6.6717, Val Loss: 5.8809\n",
      "Epoch [55000/100000], Train Loss: 8.6321, Val Loss: 5.7735\n",
      "Epoch [56000/100000], Train Loss: 6.6231, Val Loss: 5.8106\n",
      "Epoch [57000/100000], Train Loss: 6.2173, Val Loss: 5.7115\n",
      "Epoch [58000/100000], Train Loss: 6.5289, Val Loss: 5.7827\n",
      "Epoch [59000/100000], Train Loss: 8.6732, Val Loss: 5.8510\n",
      "Epoch [60000/100000], Train Loss: 7.0502, Val Loss: 5.7829\n",
      "Epoch [61000/100000], Train Loss: 7.5130, Val Loss: 5.8173\n",
      "Epoch [62000/100000], Train Loss: 6.8106, Val Loss: 5.6639\n",
      "Epoch [63000/100000], Train Loss: 7.3808, Val Loss: 5.7948\n",
      "Epoch [64000/100000], Train Loss: 6.7268, Val Loss: 5.9111\n",
      "Epoch [65000/100000], Train Loss: 7.8008, Val Loss: 5.7902\n",
      "Epoch [66000/100000], Train Loss: 7.2907, Val Loss: 5.9206\n",
      "Epoch [67000/100000], Train Loss: 7.0243, Val Loss: 5.9711\n",
      "Epoch [68000/100000], Train Loss: 6.3529, Val Loss: 5.9649\n",
      "Epoch [69000/100000], Train Loss: 7.7300, Val Loss: 5.7606\n",
      "Epoch [70000/100000], Train Loss: 7.4774, Val Loss: 5.9118\n",
      "Epoch [71000/100000], Train Loss: 7.4149, Val Loss: 5.9242\n",
      "Epoch [72000/100000], Train Loss: 8.4952, Val Loss: 5.6378\n",
      "Epoch [73000/100000], Train Loss: 7.3774, Val Loss: 5.8516\n",
      "Epoch [74000/100000], Train Loss: 7.3902, Val Loss: 5.8298\n",
      "Epoch [75000/100000], Train Loss: 6.3416, Val Loss: 5.7285\n",
      "Epoch [76000/100000], Train Loss: 7.5254, Val Loss: 5.7610\n",
      "Epoch [77000/100000], Train Loss: 7.5192, Val Loss: 5.7974\n",
      "Epoch [78000/100000], Train Loss: 5.6586, Val Loss: 5.7896\n",
      "Epoch [79000/100000], Train Loss: 8.3478, Val Loss: 5.7229\n",
      "Epoch [80000/100000], Train Loss: 8.4627, Val Loss: 5.6701\n",
      "Epoch [81000/100000], Train Loss: 7.8910, Val Loss: 5.8171\n",
      "Epoch [82000/100000], Train Loss: 6.7826, Val Loss: 5.8937\n",
      "Epoch [83000/100000], Train Loss: 7.7058, Val Loss: 5.8464\n",
      "Epoch [84000/100000], Train Loss: 5.8120, Val Loss: 5.7252\n",
      "Epoch [85000/100000], Train Loss: 5.9473, Val Loss: 5.9535\n",
      "Epoch [86000/100000], Train Loss: 6.0403, Val Loss: 5.7585\n",
      "Epoch [87000/100000], Train Loss: 6.7590, Val Loss: 5.6486\n",
      "Epoch [88000/100000], Train Loss: 7.2872, Val Loss: 5.8341\n",
      "Epoch [89000/100000], Train Loss: 8.7613, Val Loss: 5.6396\n",
      "Epoch [90000/100000], Train Loss: 6.3810, Val Loss: 5.7775\n",
      "Epoch [91000/100000], Train Loss: 7.3192, Val Loss: 5.8766\n",
      "Epoch [92000/100000], Train Loss: 6.5108, Val Loss: 5.7850\n",
      "Epoch [93000/100000], Train Loss: 6.5203, Val Loss: 5.6380\n",
      "Epoch [94000/100000], Train Loss: 5.8986, Val Loss: 5.7142\n",
      "Epoch [95000/100000], Train Loss: 8.2339, Val Loss: 5.8220\n",
      "Epoch [96000/100000], Train Loss: 6.6065, Val Loss: 5.8200\n",
      "Epoch [97000/100000], Train Loss: 7.0315, Val Loss: 5.6532\n",
      "Epoch [98000/100000], Train Loss: 6.7331, Val Loss: 5.7126\n",
      "Epoch [99000/100000], Train Loss: 6.2437, Val Loss: 5.6740\n",
      "Epoch [100000/100000], Train Loss: 7.1830, Val Loss: 5.8235\n"
     ]
    }
   ],
   "source": [
    "for epoch in range(num_epochs):\n",
    "    model.train()\n",
    "    # Generate random 5x5 matrices\n",
    "    if distribution == \"gaussian\":\n",
    "        A = np.random.randn(batch_size, 5, 5)\n",
    "        A = np.array(coeff_upper / math.sqrt(3.0) * A)\n",
    "    elif distribution == \"uniform\":\n",
    "        A = np.random.rand(batch_size, 5, 5)\n",
    "        A = np.array(max_coeff * (2 * A - 1))\n",
    "    else:\n",
    "        raise TypeError(\"Unsupported distribution\")\n",
    "\n",
    "    if matrix_type == \"wigner\":\n",
    "        A_triu = np.triu(A, 1)\n",
    "        A = A_triu + A_triu.transpose(0, 2, 1)\n",
    "        diagonal = np.diag(np.random.randn(5)* 2**0.5 + 1) # Normal with mean=1 and var = 2\n",
    "        A = A + diagonal\n",
    "        \n",
    "    \n",
    "    # Calculate exp(A)\n",
    "    A_exp = matrix_exponential(A) # (batch_size, dim, dim)\n",
    "    \n",
    "    # Convert to PyTorch tensors and move to GPU\n",
    "    A_tensor = torch.FloatTensor(A).view(batch_size, -1).to(device)\n",
    "    A_exp_tensor = torch.FloatTensor(A_exp).view(batch_size, -1).to(device)\n",
    "    \n",
    "    # Forward pass\n",
    "    output = model(A_tensor) # (batch_size, dim * dim)\n",
    "    \n",
    "    # Compute loss\n",
    "    loss = criterion(output, A_exp_tensor)\n",
    "    \n",
    "    # Backward pass and optimize\n",
    "    optimizer.zero_grad()\n",
    "    loss.backward()\n",
    "    optimizer.step()\n",
    "    \n",
    "    train_losses.append(loss.item())\n",
    "    \n",
    "    # Validation step\n",
    "    if (epoch + 1) % 1000 == 0:\n",
    "        model.eval()\n",
    "        with torch.no_grad():\n",
    "            if distribution == \"gaussian\":\n",
    "                A_val = np.random.randn(batch_size, 5, 5)\n",
    "                A_val = np.array(coeff_upper / math.sqrt(3.0) * A_val)\n",
    "            elif distribution == \"uniform\":\n",
    "                A_val = np.random.rand(batch_size, 5, 5)\n",
    "                A_val = np.array(max_coeff * (2 * A_val - 1))\n",
    "            else:\n",
    "                raise TypeError(\"Unsupported distribution\")\n",
    "            # A_val = np.random.randn(batch_size, 5, 5)\n",
    "            A_exp_val = matrix_exponential(A_val)\n",
    "            A_val_tensor = torch.FloatTensor(A_val).view(batch_size, -1).to(device)\n",
    "            A_exp_val_tensor = torch.FloatTensor(A_exp_val).view(batch_size, -1).to(device)\n",
    "            val_output = model(A_val_tensor)\n",
    "            val_loss = criterion(val_output, A_exp_val_tensor)\n",
    "            val_losses.append(val_loss.item())\n",
    "        \n",
    "        print(f'Epoch [{epoch+1}/{num_epochs}], Train Loss: {loss.item():.4f}, Val Loss: {val_loss.item():.4f}')\n",
    "        # print(f'Epoch [{epoch+1}/{num_epochs}], Train Loss: {loss.item():,.0f}, Val Loss: {val_loss.item():,.0f}')"
   ]
  },
  {
   "cell_type": "code",
   "execution_count": 19,
   "id": "b06dec0b-af74-41de-8f90-bd21bde35fab",
   "metadata": {},
   "outputs": [],
   "source": [
    "# Save the model\n",
    "torch.save(model.state_dict(), os.path.join(save_dir, 'matrix_exp_model.pth'))\n",
    "\n",
    "# Save loss lists\n",
    "with open(os.path.join(save_dir, 'losses.csv'), 'w', newline='') as f:\n",
    "    writer = csv.writer(f)\n",
    "    writer.writerow(['Epoch', 'Train Loss', 'Validation Loss'])\n",
    "    for i, (train_loss, val_loss) in enumerate(zip(train_losses, val_losses)):\n",
    "        writer.writerow([i*100, train_loss, val_loss])"
   ]
  },
  {
   "cell_type": "code",
   "execution_count": 20,
   "id": "af594b89-db17-4df0-b487-6f9f2596515e",
   "metadata": {},
   "outputs": [
    {
     "name": "stdout",
     "output_type": "stream",
     "text": [
      "Test Loss: 7.0673\n",
      "\n",
      "Example 1:\n",
      "Input matrix A:\n",
      "[[ 1.26420834 -1.13137578 -0.29372485  0.18360149 -1.49369498]\n",
      " [ 0.50421503 -1.11331967 -0.43866284  1.19570117 -0.79211211]\n",
      " [-1.76511461  0.4579329  -0.44455117  0.31753218  0.64630909]\n",
      " [-0.84378433  0.63283739  0.84024691  0.43180266  0.8254237 ]\n",
      " [-0.67731539 -0.48128315 -0.48596346  1.14896896 -1.3559657 ]]\n",
      "Actual exp(A):\n",
      "[[ 4.68548961 -1.74156921 -0.28248553 -1.61222724 -2.14556988]\n",
      " [ 0.43173328  0.37836581  0.10659207  0.74126866 -0.26077853]\n",
      " [-4.05954493  1.50950929  0.91593656  1.61682596  1.89586914]\n",
      " [-4.07937567  1.73949579  1.00137756  3.21222645  2.16256935]\n",
      " [-1.65973399  0.48560787  0.15786958  1.14562345  1.10194976]]\n",
      "Predicted exp(A):\n",
      "[[ 4.2937856  -1.8017584  -7.98199    -5.968827   -4.3861003 ]\n",
      " [-1.5906693   2.7516427   2.450084    2.774788   -0.70261085]\n",
      " [-8.251609    2.9198887   5.477718    3.8810282   4.209676  ]\n",
      " [-5.716872    2.8145027   3.911249    4.487571    3.0556912 ]\n",
      " [-5.2859178  -0.6913825   4.091287    3.5601442   1.4882866 ]]\n",
      "\n",
      "Example 2:\n",
      "Input matrix A:\n",
      "[[-0.19670335 -0.86407323 -0.17561378 -0.79165375 -0.2328095 ]\n",
      " [-1.80529877 -0.64438741  0.41411335  1.45810839 -0.24671177]\n",
      " [ 0.88669903 -1.64391315  0.34826808  1.07970988 -0.71429631]\n",
      " [-1.70349901  0.115385    0.09383536 -1.01681457 -1.65135884]\n",
      " [ 1.27554071  1.41061571  0.60250993  2.24600229 -1.27097441]]\n",
      "Actual exp(A):\n",
      "[[ 2.13146095 -0.54358119 -0.38406211 -0.92554864  0.46075867]\n",
      " [-2.37661435  0.69978341  0.47775854  1.03333402 -0.67201482]\n",
      " [ 2.6315053  -2.00212641  0.63952857 -1.22219822  0.02660812]\n",
      " [-1.32742816  0.20384131  0.0059479   0.35107408 -0.35562195]\n",
      " [-0.69955431  0.04049281  0.3785132   0.6209653  -0.37852487]]\n",
      "Predicted exp(A):\n",
      "[[ 4.381586   -7.0658526   1.4577941  -8.4612665  -0.45746773]\n",
      " [-6.865996    3.8499322  -1.9294165   5.7696643   1.3676835 ]\n",
      " [ 1.1856745  -2.0723724   4.6354785   1.0090041   1.0608718 ]\n",
      " [-8.35219     5.8871765   0.9782456   4.9032555   1.4587642 ]\n",
      " [-0.99947363  1.4502681   1.1180272   1.6605089   2.5551105 ]]\n",
      "\n",
      "Example 3:\n",
      "Input matrix A:\n",
      "[[ 0.80375639  0.78368695 -1.3357275  -1.34980764  0.78572505]\n",
      " [ 1.21202513  0.31957524 -2.0841912   1.81824566  2.65103185]\n",
      " [-0.57684589  0.75900642 -1.14151069  2.43901596 -0.11199771]\n",
      " [-0.95512982  0.78841272 -0.69597121  1.48742968 -0.31316058]\n",
      " [-2.97051872 -0.3714445   0.31442727  0.78675319 -0.08974361]]\n",
      "Actual exp(A):\n",
      "[[ 1.75429131 -0.80017021  0.05852582 -4.85328761  1.45805995]\n",
      " [-3.7547287   0.74222526 -0.61399411  4.30038674  1.37207826]\n",
      " [-2.25119915  1.37249712 -0.85831463  5.6269839   0.2481306 ]\n",
      " [-2.03826151  1.21170739 -1.26969308  5.395827    0.03668372]\n",
      " [-4.47354848  0.41473001  0.84974989  7.09948409 -1.56121794]]\n",
      "Predicted exp(A):\n",
      "[[ 13.227566     2.7953167   -8.9836445  -14.342364   -10.945177  ]\n",
      " [  2.8221917   11.54363     -7.047559     2.1250374    7.296385  ]\n",
      " [ -8.881177    -6.433336     7.388765     3.16311      0.02886034]\n",
      " [-14.424067     1.6567352    3.4208229   12.9873705   12.76091   ]\n",
      " [-10.7748785    6.9180894    0.29273543  12.276243    12.642399  ]]\n"
     ]
    }
   ],
   "source": [
    "# Evaluation\n",
    "model.eval()\n",
    "with torch.no_grad():\n",
    "    # Generate test matrices\n",
    "    num_test = 1000\n",
    "\n",
    "    if distribution == \"gaussian\":\n",
    "        A_test = np.random.randn(num_test, 5, 5)\n",
    "        A_test = np.array(coeff_upper / math.sqrt(3.0) * A_test)\n",
    "    elif distribution == \"uniform\":\n",
    "        A_test = np.random.rand(num_test, 5, 5)\n",
    "        A_test = np.array(max_coeff * (2 * A_test - 1))\n",
    "    else:\n",
    "        raise TypeError(\"Unsupported distributon.\")\n",
    "    \n",
    "    A_exp_test = matrix_exponential(A_test)\n",
    "    \n",
    "    # Convert to PyTorch tensors and move to GPU\n",
    "    A_test_tensor = torch.FloatTensor(A_test).view(num_test, -1).to(device)\n",
    "    A_exp_test_tensor = torch.FloatTensor(A_exp_test).view(num_test, -1).to(device)\n",
    "    \n",
    "    # Get model predictions\n",
    "    predictions = model(A_test_tensor)\n",
    "    \n",
    "    # Compute test loss\n",
    "    test_loss = criterion(predictions, A_exp_test_tensor)\n",
    "    print(f'Test Loss: {test_loss.item():.4f}')\n",
    "    \n",
    "    # Compare a few results\n",
    "    for i in range(3):\n",
    "        print(f\"\\nExample {i+1}:\")\n",
    "        print(\"Input matrix A:\")\n",
    "        print(A_test[i])\n",
    "        print(\"Actual exp(A):\")\n",
    "        print(A_exp_test[i])\n",
    "        print(\"Predicted exp(A):\")\n",
    "        print(predictions[i].view(5, 5).cpu().numpy())"
   ]
  },
  {
   "cell_type": "code",
   "execution_count": 21,
   "id": "070161c7-cec1-4d6d-9041-78ac3ac696bc",
   "metadata": {},
   "outputs": [],
   "source": [
    "# Save test data and evaluations\n",
    "with open(os.path.join(save_dir, 'test_data_and_evaluations.csv'), 'w', newline='') as f:\n",
    "    writer = csv.writer(f)\n",
    "    writer.writerow(['Test Matrix', 'Actual exp(A)', 'Predicted exp(A)', 'Error'])\n",
    "    for i in range(num_test):\n",
    "        pred = predictions[i].cpu().numpy().flatten()\n",
    "        actual = A_exp_test[i].flatten()\n",
    "        writer.writerow([\n",
    "            A_test[i].flatten().tolist(),\n",
    "            actual.tolist(),\n",
    "            pred.tolist(),\n",
    "            (pred - actual).tolist()\n",
    "        ])"
   ]
  },
  {
   "cell_type": "code",
   "execution_count": 22,
   "id": "9b9a87d3-6aec-47d9-8089-f1abee44e5bc",
   "metadata": {},
   "outputs": [
    {
     "name": "stdout",
     "output_type": "stream",
     "text": [
      "len(train_losses)=100000\n",
      "len(val_losses)=100\n"
     ]
    }
   ],
   "source": [
    "print(f\"{len(train_losses)=}\\n{len(val_losses)=}\")"
   ]
  },
  {
   "cell_type": "code",
   "execution_count": 23,
   "id": "3e6af7aa-ec5b-4d8b-beb2-4dfe387badb9",
   "metadata": {},
   "outputs": [],
   "source": [
    "# Visualizations\n",
    "\n",
    "# 1. Training and Validation Loss\n",
    "plt.figure(figsize=(10, 5))\n",
    "plt.plot(train_losses, label='Training Loss')\n",
    "plt.plot(range(99, len(train_losses), 1000), val_losses, label='Validation Loss')\n",
    "plt.xlabel('Epochs')\n",
    "plt.ylabel('Loss')\n",
    "plt.title('Training and Validation Loss over Epochs')\n",
    "plt.legend()\n",
    "plt.yscale('log')\n",
    "plt.grid(True)\n",
    "plt.savefig(os.path.join(save_dir, 'loss_plot.png'))\n",
    "plt.close()"
   ]
  },
  {
   "cell_type": "code",
   "execution_count": 24,
   "id": "91276c0f-830d-44f3-b67d-6d9dfe795b70",
   "metadata": {},
   "outputs": [],
   "source": [
    "# 2. Histogram of Errors\n",
    "errors = (predictions - A_exp_test_tensor).cpu().numpy().flatten()\n",
    "plt.figure(figsize=(10, 5))\n",
    "plt.hist(errors, bins=50)\n",
    "plt.xlabel('Error')\n",
    "plt.ylabel('Frequency')\n",
    "plt.title('Histogram of Errors')\n",
    "plt.savefig(os.path.join(save_dir, 'error_histogram.png'))\n",
    "plt.close()\n"
   ]
  },
  {
   "cell_type": "code",
   "execution_count": 25,
   "id": "5bf46488-513f-4913-9336-6d81c56e81d2",
   "metadata": {},
   "outputs": [],
   "source": [
    "# 3. Predicted vs Actual Values\n",
    "plt.figure(figsize=(10, 10))\n",
    "plt.scatter(A_exp_test_tensor.cpu().numpy().flatten(), predictions.cpu().numpy().flatten(), alpha=0.5)\n",
    "plt.plot([A_exp_test_tensor.cpu().numpy().min(), A_exp_test_tensor.cpu().numpy().max()], \n",
    "         [A_exp_test_tensor.cpu().numpy().min(), A_exp_test_tensor.cpu().numpy().max()], \n",
    "         'r--', lw=2)\n",
    "plt.xlabel('Actual Values')\n",
    "plt.ylabel('Predicted Values')\n",
    "plt.title('Predicted vs Actual Values')\n",
    "plt.savefig(os.path.join(save_dir, 'predicted_vs_actual.png'))\n",
    "plt.close()"
   ]
  },
  {
   "cell_type": "code",
   "execution_count": 26,
   "id": "2ed70a78-bbf1-44be-8a0b-6756bdbe4363",
   "metadata": {},
   "outputs": [],
   "source": [
    "# 4. Example Comparison\n",
    "example_idx = 0\n",
    "actual = A_exp_test[example_idx]\n",
    "predicted = predictions[example_idx].view(5, 5).cpu().numpy()"
   ]
  },
  {
   "cell_type": "code",
   "execution_count": 27,
   "id": "9fbb3f4b-3fbe-44d8-bdd9-2d55512f0631",
   "metadata": {},
   "outputs": [
    {
     "data": {
      "text/plain": [
       "<matplotlib.colorbar.Colorbar at 0x7ff34e95b160>"
      ]
     },
     "execution_count": 27,
     "metadata": {},
     "output_type": "execute_result"
    },
    {
     "data": {
      "image/png": "[encoded data removed]",
      "text/plain": [
       "<Figure size 1500x700 with 3 Axes>"
      ]
     },
     "metadata": {},
     "output_type": "display_data"
    }
   ],
   "source": [
    "fig, (ax1, ax2) = plt.subplots(1, 2, figsize=(15, 7))\n",
    "im1 = ax1.imshow(actual, cmap='viridis')\n",
    "ax1.set_title('Actual exp(A)')\n",
    "plt.colorbar(im1, ax=ax1)"
   ]
  },
  {
   "cell_type": "code",
   "execution_count": 28,
   "id": "07869f14-7e6b-45b0-91fd-4dc9c21d6b55",
   "metadata": {},
   "outputs": [
    {
     "data": {
      "text/plain": [
       "<matplotlib.colorbar.Colorbar at 0x7ff34bf3a440>"
      ]
     },
     "execution_count": 28,
     "metadata": {},
     "output_type": "execute_result"
    },
    {
     "data": {
      "text/plain": [
       "<Figure size 640x480 with 0 Axes>"
      ]
     },
     "metadata": {},
     "output_type": "display_data"
    }
   ],
   "source": [
    "im2 = ax2.imshow(predicted, cmap='viridis')\n",
    "ax2.set_title('Predicted exp(A)')\n",
    "plt.colorbar(im2, ax=ax2)"
   ]
  },
  {
   "cell_type": "code",
   "execution_count": 29,
   "id": "10a85347-6dba-4150-b4d6-d2350e634b6f",
   "metadata": {},
   "outputs": [
    {
     "name": "stdout",
     "output_type": "stream",
     "text": [
      "Visualizations have been saved as PNG files.\n"
     ]
    }
   ],
   "source": [
    "plt.savefig(os.path.join(save_dir, 'example_comparison.png'))\n",
    "plt.close()\n",
    "\n",
    "print(\"Visualizations have been saved as PNG files.\")"
   ]
  },
  {
   "cell_type": "code",
   "execution_count": 30,
   "id": "6445bdf4-adaa-4ce0-9b9a-a6f93b53730e",
   "metadata": {},
   "outputs": [
    {
     "name": "stdout",
     "output_type": "stream",
     "text": [
      "Observations saved at /home/rahulpadmanabhan/Development/ws1/masters_thesis_2/LAWT/notebooks/matrix_exp_results/202427171723948037\n"
     ]
    }
   ],
   "source": [
    "print(f\"Observations saved at {save_dir}\")"
   ]
  },
  {
   "cell_type": "code",
   "execution_count": null,
   "id": "98c13e4f-5687-48dc-804e-31055985a772",
   "metadata": {},
   "outputs": [],
   "source": []
  }
 ],
 "metadata": {
  "kernelspec": {
   "display_name": "Python 3 (ipykernel)",
   "language": "python",
   "name": "python3"
  },
  "language_info": {
   "codemirror_mode": {
    "name": "ipython",
    "version": 3
   },
   "file_extension": ".py",
   "mimetype": "text/x-python",
   "name": "python",
   "nbconvert_exporter": "python",
   "pygments_lexer": "ipython3",
   "version": "3.10.12"
  }
 },
 "nbformat": 4,
 "nbformat_minor": 5
}
