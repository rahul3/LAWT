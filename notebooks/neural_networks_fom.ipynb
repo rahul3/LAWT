{
 "cells": [
  {
   "cell_type": "markdown",
   "id": "5a18f65e-59ef-4637-b309-2d7acb0c3e4f",
   "metadata": {},
   "source": [
    "## Neural Network Approach For Functions Of Matrices"
   ]
  },
  {
   "cell_type": "code",
   "execution_count": 1,
   "id": "7c09a2d2-4877-4a50-853b-7c3038303eaf",
   "metadata": {},
   "outputs": [],
   "source": [
    "import torch\n",
    "import torch.nn as nn\n",
    "import torch.optim as optim\n",
    "import numpy as np\n",
    "from scipy.linalg import expm\n",
    "import math\n",
    "\n",
    "import matplotlib.pyplot as plt\n",
    "\n",
    "import csv\n",
    "import os\n",
    "\n",
    "import datetime"
   ]
  },
  {
   "cell_type": "code",
   "execution_count": 2,
   "id": "dfd27c9e-0da7-482b-8b09-4bdc54360664",
   "metadata": {},
   "outputs": [],
   "source": [
    "ID = datetime.datetime.strftime(datetime.datetime.now(),'%Y%M%d%s')"
   ]
  },
  {
   "cell_type": "code",
   "execution_count": 3,
   "id": "44205ff2-6f0c-43ae-bbab-8f01acca0aa8",
   "metadata": {},
   "outputs": [],
   "source": [
    "# Create a directory for saving results\n",
    "save_dir = os.path.join(os.getcwd(), 'matrix_exp_results', ID)\n",
    "os.makedirs(save_dir, exist_ok=True)"
   ]
  },
  {
   "cell_type": "code",
   "execution_count": 4,
   "id": "d344e133-2ad1-43c6-8199-051ebe1c357a",
   "metadata": {},
   "outputs": [
    {
     "name": "stdout",
     "output_type": "stream",
     "text": [
      "Using device: cuda\n"
     ]
    }
   ],
   "source": [
    "# Check if CUDA is available and set the device\n",
    "device = torch.device(\"cuda\" if torch.cuda.is_available() else \"cpu\")\n",
    "print(f\"Using device: {device}\")"
   ]
  },
  {
   "cell_type": "code",
   "execution_count": 5,
   "id": "7ee4db68-389c-4782-928e-0d6aa70cc6b1",
   "metadata": {},
   "outputs": [],
   "source": [
    "# Define the neural network\n",
    "class MatrixExponentialNet(nn.Module):\n",
    "    def __init__(self, input_size):\n",
    "        super(MatrixExponentialNet, self).__init__()\n",
    "        self.fc1 = nn.Linear(input_size, 128)\n",
    "        self.fc2 = nn.Linear(128, 256)\n",
    "        self.fc3 = nn.Linear(256, 128)\n",
    "        self.fc4 = nn.Linear(128, input_size)\n",
    "        self.relu = nn.ReLU()\n",
    "\n",
    "    def forward(self, x):\n",
    "        x = self.relu(self.fc1(x))\n",
    "        x = self.relu(self.fc2(x))\n",
    "        x = self.relu(self.fc3(x))\n",
    "        x = self.fc4(x)\n",
    "        return x"
   ]
  },
  {
   "cell_type": "code",
   "execution_count": 6,
   "id": "d6930299-80bc-49a0-8170-8bd411528c6a",
   "metadata": {},
   "outputs": [],
   "source": [
    "# Set random seed for reproducibility\n",
    "torch.manual_seed(42)\n",
    "np.random.seed(42)\n"
   ]
  },
  {
   "cell_type": "code",
   "execution_count": 7,
   "id": "df5969f2-2ad8-41c7-82cb-3214c4278191",
   "metadata": {},
   "outputs": [],
   "source": [
    "# Define input size (5x5 matrix flattened)\n",
    "input_size = 5 * 5"
   ]
  },
  {
   "cell_type": "code",
   "execution_count": 8,
   "id": "78c42f91-27a8-4341-8a6c-25af02fe0f98",
   "metadata": {},
   "outputs": [],
   "source": [
    "# params\n",
    "distribution = \"gaussian\" # or uniform\n",
    "coeff_lower = 0 \n",
    "coeff_upper = 10\n",
    "\n",
    "lr = 1e-5 # learning rate"
   ]
  },
  {
   "cell_type": "code",
   "execution_count": 9,
   "id": "d7c99e62-9299-40ad-beb0-818c3d5dc1c9",
   "metadata": {},
   "outputs": [],
   "source": [
    "# Create the model and move it to GPU\n",
    "model = MatrixExponentialNet(input_size).to(device)"
   ]
  },
  {
   "cell_type": "code",
   "execution_count": 10,
   "id": "562db912-e690-45fd-9e8d-e1d8ef91d741",
   "metadata": {},
   "outputs": [],
   "source": [
    "class MatrixLoss(nn.Module):\n",
    "    def __init__(self, dim=5):\n",
    "        super(MatrixLoss, self).__init__()\n",
    "        self.dim = dim\n",
    "\n",
    "    def forward(self, pred, target):\n",
    "        e = pred - target\n",
    "        e_reshaped = e.view(-1, self.dim, self.dim)\n",
    "        \n",
    "        max_abs = torch.max(torch.abs(e_reshaped).view(e_reshaped.size(0), -1), dim=1)[0]\n",
    "        sum_abs = torch.sum(torch.abs(e_reshaped), dim=(1,2)) / self.dim\n",
    "        trace = torch.sum(e_reshaped ** 2, dim=(1,2)) / self.dim\n",
    "        \n",
    "        loss = max_abs + sum_abs + trace\n",
    "        return loss.mean()"
   ]
  },
  {
   "cell_type": "code",
   "execution_count": 11,
   "id": "1aee4c37-28c9-4fbd-bd59-5541252df010",
   "metadata": {},
   "outputs": [],
   "source": [
    "# Define loss function and optimizer\n",
    "# criterion = nn.MSELoss()\n",
    "criterion = MatrixLoss(dim=5)\n",
    "optimizer = optim.Adam(model.parameters(), lr=lr)"
   ]
  },
  {
   "cell_type": "code",
   "execution_count": 12,
   "id": "0eb4f07e-f323-4909-ba56-baffa113d808",
   "metadata": {},
   "outputs": [],
   "source": [
    "# Function to compute matrix exponential\n",
    "def matrix_exponential(batch_matrices):\n",
    "    return np.array([expm(A) for A in batch_matrices])"
   ]
  },
  {
   "cell_type": "code",
   "execution_count": 13,
   "id": "b1fbace4-69ec-4f72-b469-86abd89a09b5",
   "metadata": {},
   "outputs": [],
   "source": [
    "# Training loop\n",
    "num_epochs = 100000\n",
    "batch_size = 64"
   ]
  },
  {
   "cell_type": "code",
   "execution_count": 14,
   "id": "8d4f019f-7066-4062-b731-a22ff459cdf3",
   "metadata": {},
   "outputs": [],
   "source": [
    "# Lists to store loss values for plotting\n",
    "train_losses = []\n",
    "val_losses = []"
   ]
  },
  {
   "cell_type": "code",
   "execution_count": 15,
   "id": "4106285c-1ba1-4c22-848a-fc0c98bc0946",
   "metadata": {},
   "outputs": [],
   "source": [
    "### Custom Loss function"
   ]
  },
  {
   "cell_type": "code",
   "execution_count": 16,
   "id": "1ee45a1a-def1-48f6-a8a8-efc284f8acdb",
   "metadata": {},
   "outputs": [
    {
     "name": "stdout",
     "output_type": "stream",
     "text": [
      "Epoch [1000/100000], Train Loss: 180620623385460736.0000, Val Loss: 43.6384\n",
      "Epoch [2000/100000], Train Loss: 1010911552733184.0000, Val Loss: 72.6800\n",
      "Epoch [3000/100000], Train Loss: 10054729271290626048.0000, Val Loss: 65.8225\n",
      "Epoch [4000/100000], Train Loss: 191239156662272.0000, Val Loss: 66.8796\n",
      "Epoch [5000/100000], Train Loss: 121470763281678336.0000, Val Loss: 57.8083\n",
      "Epoch [6000/100000], Train Loss: 11191860139655168.0000, Val Loss: 46.4011\n",
      "Epoch [7000/100000], Train Loss: 718450170986416308224.0000, Val Loss: 36.6951\n",
      "Epoch [8000/100000], Train Loss: 2673130199842816.0000, Val Loss: 39.7751\n",
      "Epoch [9000/100000], Train Loss: 862175033533923328.0000, Val Loss: 72.2160\n",
      "Epoch [10000/100000], Train Loss: 615916246029828096.0000, Val Loss: 40.8549\n",
      "Epoch [11000/100000], Train Loss: 443578346815619072.0000, Val Loss: 67.0306\n",
      "Epoch [12000/100000], Train Loss: 480886288174546944.0000, Val Loss: 40.7807\n",
      "Epoch [13000/100000], Train Loss: 968843690246144.0000, Val Loss: 76.5867\n",
      "Epoch [14000/100000], Train Loss: 10649954418688.0000, Val Loss: 86.6062\n",
      "Epoch [15000/100000], Train Loss: 6634138018775040.0000, Val Loss: 35.4680\n",
      "Epoch [16000/100000], Train Loss: 3716123277476581343232.0000, Val Loss: 49.6568\n",
      "Epoch [17000/100000], Train Loss: 994184265728000.0000, Val Loss: 52.0278\n",
      "Epoch [18000/100000], Train Loss: 4228068348526592.0000, Val Loss: 47.6211\n",
      "Epoch [19000/100000], Train Loss: 1512390592036864.0000, Val Loss: 47.9397\n",
      "Epoch [20000/100000], Train Loss: 51182987552600621056.0000, Val Loss: 36.5618\n",
      "Epoch [21000/100000], Train Loss: 9774517710749696.0000, Val Loss: 41.8622\n",
      "Epoch [22000/100000], Train Loss: 1037868058120552448.0000, Val Loss: 52.5392\n",
      "Epoch [23000/100000], Train Loss: 873389921140736.0000, Val Loss: 80.4237\n",
      "Epoch [24000/100000], Train Loss: 2240542033313792.0000, Val Loss: 48.5034\n",
      "Epoch [25000/100000], Train Loss: 1861132004360192.0000, Val Loss: 44.7735\n",
      "Epoch [26000/100000], Train Loss: 7851766993341885972480.0000, Val Loss: 77.2574\n",
      "Epoch [27000/100000], Train Loss: 33022614117023744.0000, Val Loss: 75.2427\n",
      "Epoch [28000/100000], Train Loss: 326211188293632.0000, Val Loss: 34.5618\n",
      "Epoch [29000/100000], Train Loss: 261915125219328.0000, Val Loss: 51.0156\n",
      "Epoch [30000/100000], Train Loss: 3493393357659439104.0000, Val Loss: 49.8800\n",
      "Epoch [31000/100000], Train Loss: 65595377654431744.0000, Val Loss: 64.3219\n",
      "Epoch [32000/100000], Train Loss: 11088948428275712.0000, Val Loss: 65.3743\n",
      "Epoch [33000/100000], Train Loss: 41105617846272.0000, Val Loss: 45.9967\n",
      "Epoch [34000/100000], Train Loss: 39445254524370944.0000, Val Loss: 81.4630\n",
      "Epoch [35000/100000], Train Loss: 221726545805312.0000, Val Loss: 47.4276\n",
      "Epoch [36000/100000], Train Loss: 219359063731863552.0000, Val Loss: 55.8448\n",
      "Epoch [37000/100000], Train Loss: 1560235722407936.0000, Val Loss: 41.9878\n",
      "Epoch [38000/100000], Train Loss: 2798479088812032.0000, Val Loss: 68.3371\n",
      "Epoch [39000/100000], Train Loss: 353287688893235200.0000, Val Loss: 58.9576\n",
      "Epoch [40000/100000], Train Loss: 9342349511491584.0000, Val Loss: 70.4105\n",
      "Epoch [41000/100000], Train Loss: 6265570768977920.0000, Val Loss: 98.3683\n",
      "Epoch [42000/100000], Train Loss: 26788338571413553152.0000, Val Loss: 29.7917\n",
      "Epoch [43000/100000], Train Loss: 197873941610496.0000, Val Loss: 50.3385\n",
      "Epoch [44000/100000], Train Loss: 1679035591557120.0000, Val Loss: 49.1138\n",
      "Epoch [45000/100000], Train Loss: 323188470841344.0000, Val Loss: 58.3473\n",
      "Epoch [46000/100000], Train Loss: 2001884806421413888.0000, Val Loss: 36.6659\n",
      "Epoch [47000/100000], Train Loss: 5644049809670144.0000, Val Loss: 64.3846\n",
      "Epoch [48000/100000], Train Loss: 5577478353453056.0000, Val Loss: 87.9083\n",
      "Epoch [49000/100000], Train Loss: 671780465278976.0000, Val Loss: 42.8528\n",
      "Epoch [50000/100000], Train Loss: 30505396061863936.0000, Val Loss: 55.4703\n",
      "Epoch [51000/100000], Train Loss: 8610564393664512.0000, Val Loss: 52.3490\n",
      "Epoch [52000/100000], Train Loss: 208873218637824.0000, Val Loss: 83.5953\n",
      "Epoch [53000/100000], Train Loss: 4097559054203748352.0000, Val Loss: 57.6248\n",
      "Epoch [54000/100000], Train Loss: 268497256250062405632.0000, Val Loss: 45.7499\n",
      "Epoch [55000/100000], Train Loss: 47558248366080.0000, Val Loss: 46.5521\n",
      "Epoch [56000/100000], Train Loss: 118109620928512.0000, Val Loss: 55.4173\n",
      "Epoch [57000/100000], Train Loss: 3455392457687040.0000, Val Loss: 45.1989\n",
      "Epoch [58000/100000], Train Loss: 408747021038518272.0000, Val Loss: 138.3478\n",
      "Epoch [59000/100000], Train Loss: 42566269819420672.0000, Val Loss: 59.2515\n",
      "Epoch [60000/100000], Train Loss: 511165163634688.0000, Val Loss: 56.1942\n",
      "Epoch [61000/100000], Train Loss: 2335958357820571648.0000, Val Loss: 51.4654\n",
      "Epoch [62000/100000], Train Loss: 343851659165696.0000, Val Loss: 98.0506\n",
      "Epoch [63000/100000], Train Loss: 8512851680067321856.0000, Val Loss: 54.7235\n",
      "Epoch [64000/100000], Train Loss: 1225246279970324480.0000, Val Loss: 59.8418\n",
      "Epoch [65000/100000], Train Loss: 12463840474169344.0000, Val Loss: 73.3065\n",
      "Epoch [66000/100000], Train Loss: 28034857959424.0000, Val Loss: 88.2994\n",
      "Epoch [67000/100000], Train Loss: 176984410889056681984.0000, Val Loss: 99.8613\n",
      "Epoch [68000/100000], Train Loss: 103168619143233536.0000, Val Loss: 71.6846\n",
      "Epoch [69000/100000], Train Loss: 10901698471329267712.0000, Val Loss: 82.6628\n",
      "Epoch [70000/100000], Train Loss: 1323318996420595286016.0000, Val Loss: 100.2971\n",
      "Epoch [71000/100000], Train Loss: 381009400954880.0000, Val Loss: 171.6642\n",
      "Epoch [72000/100000], Train Loss: 635238145327104.0000, Val Loss: 102.9192\n",
      "Epoch [73000/100000], Train Loss: 5474849573044224.0000, Val Loss: 98.0479\n",
      "Epoch [74000/100000], Train Loss: 24398391718768017408.0000, Val Loss: 106.7219\n",
      "Epoch [75000/100000], Train Loss: 1002039303498366976.0000, Val Loss: 114.1237\n",
      "Epoch [76000/100000], Train Loss: 114115888545792.0000, Val Loss: 136.4143\n",
      "Epoch [77000/100000], Train Loss: 8705729888256.0000, Val Loss: 127.9235\n",
      "Epoch [78000/100000], Train Loss: 105658326188032.0000, Val Loss: 138.5924\n",
      "Epoch [79000/100000], Train Loss: 243530521198460928.0000, Val Loss: 166.3478\n",
      "Epoch [80000/100000], Train Loss: 2056267937873920.0000, Val Loss: 176.6196\n",
      "Epoch [81000/100000], Train Loss: 157539501080576.0000, Val Loss: 184.9987\n",
      "Epoch [82000/100000], Train Loss: 124229680889856.0000, Val Loss: 196.4952\n",
      "Epoch [83000/100000], Train Loss: 3953196347162624.0000, Val Loss: 229.8909\n",
      "Epoch [84000/100000], Train Loss: 50150958725857280.0000, Val Loss: 223.3217\n",
      "Epoch [85000/100000], Train Loss: 43038905200541696.0000, Val Loss: 230.0403\n",
      "Epoch [86000/100000], Train Loss: 13914142482104320.0000, Val Loss: 235.4848\n",
      "Epoch [87000/100000], Train Loss: 55218635031189651456.0000, Val Loss: 262.2089\n",
      "Epoch [88000/100000], Train Loss: 192091388903424.0000, Val Loss: 323.5300\n",
      "Epoch [89000/100000], Train Loss: 7475609622020096.0000, Val Loss: 296.3146\n",
      "Epoch [90000/100000], Train Loss: 19579745075200.0000, Val Loss: 366.8346\n",
      "Epoch [91000/100000], Train Loss: 71449775702016.0000, Val Loss: 393.4908\n",
      "Epoch [92000/100000], Train Loss: 446185663889408.0000, Val Loss: 376.6152\n",
      "Epoch [93000/100000], Train Loss: 2750087692288000.0000, Val Loss: 377.1160\n",
      "Epoch [94000/100000], Train Loss: 608796984475648.0000, Val Loss: 418.6898\n",
      "Epoch [95000/100000], Train Loss: 6263882309959680.0000, Val Loss: 499.8733\n",
      "Epoch [96000/100000], Train Loss: 5927945000452096.0000, Val Loss: 482.4117\n",
      "Epoch [97000/100000], Train Loss: 192853446158712832.0000, Val Loss: 487.9629\n",
      "Epoch [98000/100000], Train Loss: 128472999526400.0000, Val Loss: 510.7575\n",
      "Epoch [99000/100000], Train Loss: 73501469835264.0000, Val Loss: 503.4947\n",
      "Epoch [100000/100000], Train Loss: 217389752909824.0000, Val Loss: 614.0116\n"
     ]
    }
   ],
   "source": [
    "for epoch in range(num_epochs):\n",
    "    model.train()\n",
    "    # Generate random 5x5 matrices\n",
    "    if distribution == \"gaussian\":\n",
    "        A = np.random.randn(batch_size, 5, 5)\n",
    "        A = np.array(coeff_upper / math.sqrt(3.0) * A)\n",
    "    elif distribution == \"uniform\":\n",
    "        A = np.random.rand(batch_size, 5, 5)\n",
    "        A = np.array(max_coeff * (2 * A - 1))\n",
    "    else:\n",
    "        raise TypeError(\"Unsupported distribution\")\n",
    "\n",
    "    \n",
    "    # Calculate exp(A)\n",
    "    A_exp = matrix_exponential(A)\n",
    "    \n",
    "    # Convert to PyTorch tensors and move to GPU\n",
    "    A_tensor = torch.FloatTensor(A).view(batch_size, -1).to(device)\n",
    "    A_exp_tensor = torch.FloatTensor(A_exp).view(batch_size, -1).to(device)\n",
    "    \n",
    "    # Forward pass\n",
    "    output = model(A_tensor)\n",
    "    \n",
    "    # Compute loss\n",
    "    loss = criterion(output, A_exp_tensor)\n",
    "    \n",
    "    # Backward pass and optimize\n",
    "    optimizer.zero_grad()\n",
    "    loss.backward()\n",
    "    optimizer.step()\n",
    "    \n",
    "    train_losses.append(loss.item())\n",
    "    \n",
    "    # Validation step\n",
    "    if (epoch + 1) % 1000 == 0:\n",
    "        model.eval()\n",
    "        with torch.no_grad():\n",
    "            A_val = np.random.randn(batch_size, 5, 5)\n",
    "            A_exp_val = matrix_exponential(A_val)\n",
    "            A_val_tensor = torch.FloatTensor(A_val).view(batch_size, -1).to(device)\n",
    "            A_exp_val_tensor = torch.FloatTensor(A_exp_val).view(batch_size, -1).to(device)\n",
    "            val_output = model(A_val_tensor)\n",
    "            val_loss = criterion(val_output, A_exp_val_tensor)\n",
    "            val_losses.append(val_loss.item())\n",
    "        \n",
    "        print(f'Epoch [{epoch+1}/{num_epochs}], Train Loss: {loss.item():.4f}, Val Loss: {val_loss.item():.4f}')"
   ]
  },
  {
   "cell_type": "code",
   "execution_count": 17,
   "id": "b06dec0b-af74-41de-8f90-bd21bde35fab",
   "metadata": {},
   "outputs": [],
   "source": [
    "# Save the model\n",
    "torch.save(model.state_dict(), os.path.join(save_dir, 'matrix_exp_model.pth'))\n",
    "\n",
    "# Save loss lists\n",
    "with open(os.path.join(save_dir, 'losses.csv'), 'w', newline='') as f:\n",
    "    writer = csv.writer(f)\n",
    "    writer.writerow(['Epoch', 'Train Loss', 'Validation Loss'])\n",
    "    for i, (train_loss, val_loss) in enumerate(zip(train_losses, val_losses)):\n",
    "        writer.writerow([i*100, train_loss, val_loss])"
   ]
  },
  {
   "cell_type": "code",
   "execution_count": 18,
   "id": "af594b89-db17-4df0-b487-6f9f2596515e",
   "metadata": {},
   "outputs": [
    {
     "name": "stdout",
     "output_type": "stream",
     "text": [
      "Test Loss: 596.6367\n",
      "\n",
      "Example 1:\n",
      "Input matrix A:\n",
      "[[-0.84518283 -0.05493905 -1.23835785  1.50580414  0.08394291]\n",
      " [ 0.18450781 -0.5815779   1.11920838  0.28610345 -0.99999603]\n",
      " [-1.35079053 -1.6066835   1.82087014  0.72972418  0.02872044]\n",
      " [-0.69732303 -0.20768064  0.13489679 -1.36292633  0.33090042]\n",
      " [-0.1898658  -1.27170226  0.5693403  -1.29001019  1.00780285]]\n",
      "Actual exp(A):\n",
      "[[ 1.34059342  1.19356223 -2.4405933   0.38999619 -0.17754486]\n",
      " [-0.94518732 -0.10167716  2.27026054  0.66030535 -1.00384153]\n",
      " [-3.20839448 -4.35936115  6.31928505 -0.75444431  2.04853278]\n",
      " [-0.47484715 -0.59622215  0.66733019 -0.09432515  0.54428514]\n",
      " [-0.37326733 -2.37319507  0.78480598 -1.78276098  3.70516644]]\n",
      "Predicted exp(A):\n",
      "[[25.769173    1.0139344   0.6786248   1.8967853  -0.6312778 ]\n",
      " [-0.51845074 21.822561   -3.1109998  -4.103498    0.47300094]\n",
      " [ 1.8668433   0.36196858 25.744267    0.16746205 -1.6654083 ]\n",
      " [ 4.970542    2.7029173  -3.1128755  25.71772     1.3305064 ]\n",
      " [-0.9797016  -5.670396   -2.3350637   3.3942792  25.038788  ]]\n",
      "\n",
      "Example 2:\n",
      "Input matrix A:\n",
      "[[-1.28011503  1.34905665  0.72670022  0.21405606 -0.78001297]\n",
      " [ 0.36273457  2.58789797 -0.41600264 -0.32985275  0.57851736]\n",
      " [-1.74237641 -1.88112402  2.02467719 -1.15575517  0.49187388]\n",
      " [-0.47542044  0.79068834 -0.48251933  0.70693578 -0.93935435]\n",
      " [-0.70682732  1.27273196 -1.08112091 -0.63807754  1.07344556]]\n",
      "Actual exp(A):\n",
      "[[ -0.21982535   0.54517952   1.44718575  -0.78557284   0.28195529]\n",
      " [  3.36721807  23.40473576  -6.21254715  -1.36890291   4.15512305]\n",
      " [ -5.93313926 -26.00589605   9.33893751  -3.70091395   1.42769123]\n",
      " [  0.87881204   4.98019797  -1.37991617   2.83951681  -2.01147717]\n",
      " [  3.29311515  19.12056224  -8.1539423   -0.36923485   4.63095582]]\n",
      "Predicted exp(A):\n",
      "[[30.766098    1.1316507   0.8241864   2.347884   -0.9253657 ]\n",
      " [-0.65693367 26.385029   -3.9414175  -5.0532846   0.8130849 ]\n",
      " [ 2.357954    0.32006055 30.852095    0.05195876 -2.0475445 ]\n",
      " [ 5.7518415   3.0741353  -3.9431143  30.893017    1.7477016 ]\n",
      " [-1.1001446  -6.6070414  -2.9086542   4.006848   29.840359  ]]\n",
      "\n",
      "Example 3:\n",
      "Input matrix A:\n",
      "[[ 0.6990486   0.72844746  0.38389251 -0.19268528 -0.68461611]\n",
      " [-0.26352386 -1.12685432  0.19220804  0.57522869 -0.33078996]\n",
      " [ 1.03373371  0.6137969   0.20752844 -1.53031563 -0.98637434]\n",
      " [ 0.65891479  1.58379604  0.45018851  0.52490753 -1.32217997]\n",
      " [-3.66669882 -0.7154331   0.4146966   0.8773461   1.32347578]]\n",
      "Actual exp(A):\n",
      "[[  5.60720841   1.23745694   0.50255547  -1.5025336   -2.55834536]\n",
      " [  1.84988912   0.94757518   0.19960578  -0.09819629  -1.35189793]\n",
      " [  2.94778052  -0.08890473   0.93365891  -2.78357946  -0.96152494]\n",
      " [  9.25885705   3.25665197   0.82898368  -0.55232452  -5.98360191]\n",
      " [-11.5231248   -2.27214298  -0.09047965   3.04824032   6.06727625]]\n",
      "Predicted exp(A):\n",
      "[[34.045486    1.102659    1.2448118   2.338711   -1.0799749 ]\n",
      " [-0.6176801  28.41056    -4.1809163  -5.481541    0.71468973]\n",
      " [ 2.6797364   0.54211664 33.454605   -0.23511261 -2.3463979 ]\n",
      " [ 6.258117    3.562318   -4.4135647  33.701725    1.9761124 ]\n",
      " [-1.4934881  -7.2236166  -3.0600114   4.3503385  32.668488  ]]\n"
     ]
    }
   ],
   "source": [
    "# Evaluation\n",
    "model.eval()\n",
    "with torch.no_grad():\n",
    "    # Generate test matrices\n",
    "    num_test = 1000\n",
    "\n",
    "    if distribution == \"gaussian\":\n",
    "        A_test = np.random.randn(num_test, 5, 5)\n",
    "        A = np.array(coeff_upper / math.sqrt(3.0) * A)\n",
    "    elif distribution == \"uniform\":\n",
    "        A_test = np.random.rand(num_test, 5, 5)\n",
    "        A = np.array(max_coeff * (2 * A - 1))\n",
    "    else:\n",
    "        raise TypeError(\"Unsupported distributon.\")\n",
    "\n",
    "    # clip\n",
    "    A = np.clip(A * coeff_upper, coeff_lower, coeff_upper)\n",
    "    \n",
    "    A_exp_test = matrix_exponential(A_test)\n",
    "    \n",
    "    # Convert to PyTorch tensors and move to GPU\n",
    "    A_test_tensor = torch.FloatTensor(A_test).view(num_test, -1).to(device)\n",
    "    A_exp_test_tensor = torch.FloatTensor(A_exp_test).view(num_test, -1).to(device)\n",
    "    \n",
    "    # Get model predictions\n",
    "    predictions = model(A_test_tensor)\n",
    "    \n",
    "    # Compute test loss\n",
    "    test_loss = criterion(predictions, A_exp_test_tensor)\n",
    "    print(f'Test Loss: {test_loss.item():.4f}')\n",
    "    \n",
    "    # Compare a few results\n",
    "    for i in range(3):\n",
    "        print(f\"\\nExample {i+1}:\")\n",
    "        print(\"Input matrix A:\")\n",
    "        print(A_test[i])\n",
    "        print(\"Actual exp(A):\")\n",
    "        print(A_exp_test[i])\n",
    "        print(\"Predicted exp(A):\")\n",
    "        print(predictions[i].view(5, 5).cpu().numpy())"
   ]
  },
  {
   "cell_type": "code",
   "execution_count": 20,
   "id": "070161c7-cec1-4d6d-9041-78ac3ac696bc",
   "metadata": {},
   "outputs": [],
   "source": [
    "# Save test data and evaluations\n",
    "with open(os.path.join(save_dir, 'test_data_and_evaluations.csv'), 'w', newline='') as f:\n",
    "    writer = csv.writer(f)\n",
    "    writer.writerow(['Test Matrix', 'Actual exp(A)', 'Predicted exp(A)', 'Error'])\n",
    "    for i in range(num_test):\n",
    "        pred = predictions[i].cpu().numpy().flatten()\n",
    "        actual = A_exp_test[i].flatten()\n",
    "        writer.writerow([\n",
    "            A_test[i].flatten().tolist(),\n",
    "            actual.tolist(),\n",
    "            pred.tolist(),\n",
    "            (pred - actual).tolist()\n",
    "        ])"
   ]
  },
  {
   "cell_type": "code",
   "execution_count": 21,
   "id": "9b9a87d3-6aec-47d9-8089-f1abee44e5bc",
   "metadata": {},
   "outputs": [
    {
     "name": "stdout",
     "output_type": "stream",
     "text": [
      "len(train_losses)=100000\n",
      "len(val_losses)=100\n"
     ]
    }
   ],
   "source": [
    "print(f\"{len(train_losses)=}\\n{len(val_losses)=}\")"
   ]
  },
  {
   "cell_type": "code",
   "execution_count": 26,
   "id": "3e6af7aa-ec5b-4d8b-beb2-4dfe387badb9",
   "metadata": {},
   "outputs": [],
   "source": [
    "# Visualizations\n",
    "\n",
    "# 1. Training and Validation Loss\n",
    "plt.figure(figsize=(10, 5))\n",
    "plt.plot(train_losses, label='Training Loss')\n",
    "plt.plot(range(99, len(train_losses), 1000), val_losses, label='Validation Loss')\n",
    "plt.xlabel('Epochs')\n",
    "plt.ylabel('Loss')\n",
    "plt.title('Training and Validation Loss over Epochs')\n",
    "plt.legend()\n",
    "plt.yscale('log')\n",
    "plt.grid(True)\n",
    "plt.savefig(os.path.join(save_dir, 'loss_plot.png'))\n",
    "plt.close()"
   ]
  },
  {
   "cell_type": "code",
   "execution_count": 27,
   "id": "91276c0f-830d-44f3-b67d-6d9dfe795b70",
   "metadata": {},
   "outputs": [],
   "source": [
    "# 2. Histogram of Errors\n",
    "errors = (predictions - A_exp_test_tensor).cpu().numpy().flatten()\n",
    "plt.figure(figsize=(10, 5))\n",
    "plt.hist(errors, bins=50)\n",
    "plt.xlabel('Error')\n",
    "plt.ylabel('Frequency')\n",
    "plt.title('Histogram of Errors')\n",
    "plt.savefig(os.path.join(save_dir, 'error_histogram.png'))\n",
    "plt.close()\n"
   ]
  },
  {
   "cell_type": "code",
   "execution_count": 28,
   "id": "5bf46488-513f-4913-9336-6d81c56e81d2",
   "metadata": {},
   "outputs": [],
   "source": [
    "# 3. Predicted vs Actual Values\n",
    "plt.figure(figsize=(10, 10))\n",
    "plt.scatter(A_exp_test_tensor.cpu().numpy().flatten(), predictions.cpu().numpy().flatten(), alpha=0.5)\n",
    "plt.plot([A_exp_test_tensor.cpu().numpy().min(), A_exp_test_tensor.cpu().numpy().max()], \n",
    "         [A_exp_test_tensor.cpu().numpy().min(), A_exp_test_tensor.cpu().numpy().max()], \n",
    "         'r--', lw=2)\n",
    "plt.xlabel('Actual Values')\n",
    "plt.ylabel('Predicted Values')\n",
    "plt.title('Predicted vs Actual Values')\n",
    "plt.savefig(os.path.join(save_dir, 'predicted_vs_actual.png'))\n",
    "plt.close()"
   ]
  },
  {
   "cell_type": "code",
   "execution_count": 29,
   "id": "2ed70a78-bbf1-44be-8a0b-6756bdbe4363",
   "metadata": {},
   "outputs": [],
   "source": [
    "# 4. Example Comparison\n",
    "example_idx = 0\n",
    "actual = A_exp_test[example_idx]\n",
    "predicted = predictions[example_idx].view(5, 5).cpu().numpy()"
   ]
  },
  {
   "cell_type": "code",
   "execution_count": 30,
   "id": "9fbb3f4b-3fbe-44d8-bdd9-2d55512f0631",
   "metadata": {},
   "outputs": [
    {
     "data": {
      "text/plain": [
       "<matplotlib.colorbar.Colorbar at 0x76b8c00ac400>"
      ]
     },
     "execution_count": 30,
     "metadata": {},
     "output_type": "execute_result"
    },
    {
     "data": {
      "image/png": "[encoded data removed]",
      "text/plain": [
       "<Figure size 1500x700 with 3 Axes>"
      ]
     },
     "metadata": {},
     "output_type": "display_data"
    }
   ],
   "source": [
    "fig, (ax1, ax2) = plt.subplots(1, 2, figsize=(15, 7))\n",
    "im1 = ax1.imshow(actual, cmap='viridis')\n",
    "ax1.set_title('Actual exp(A)')\n",
    "plt.colorbar(im1, ax=ax1)"
   ]
  },
  {
   "cell_type": "code",
   "execution_count": 31,
   "id": "07869f14-7e6b-45b0-91fd-4dc9c21d6b55",
   "metadata": {},
   "outputs": [
    {
     "data": {
      "text/plain": [
       "<matplotlib.colorbar.Colorbar at 0x76b8c259c220>"
      ]
     },
     "execution_count": 31,
     "metadata": {},
     "output_type": "execute_result"
    },
    {
     "data": {
      "text/plain": [
       "<Figure size 640x480 with 0 Axes>"
      ]
     },
     "metadata": {},
     "output_type": "display_data"
    }
   ],
   "source": [
    "im2 = ax2.imshow(predicted, cmap='viridis')\n",
    "ax2.set_title('Predicted exp(A)')\n",
    "plt.colorbar(im2, ax=ax2)"
   ]
  },
  {
   "cell_type": "code",
   "execution_count": 32,
   "id": "10a85347-6dba-4150-b4d6-d2350e634b6f",
   "metadata": {},
   "outputs": [
    {
     "name": "stdout",
     "output_type": "stream",
     "text": [
      "Visualizations have been saved as PNG files.\n"
     ]
    }
   ],
   "source": [
    "plt.savefig(os.path.join(save_dir, 'example_comparison.png'))\n",
    "plt.close()\n",
    "\n",
    "print(\"Visualizations have been saved as PNG files.\")"
   ]
  },
  {
   "cell_type": "code",
   "execution_count": null,
   "id": "00d37e5e-001a-42c1-9729-28360ab9468f",
   "metadata": {},
   "outputs": [],
   "source": []
  },
  {
   "cell_type": "code",
   "execution_count": null,
   "id": "96198bdc-172d-44ac-a5b2-61eba3839d02",
   "metadata": {},
   "outputs": [],
   "source": [
    "# 1. Training and Validation Loss\n",
    "plt.figure(figsize=(10, 5))\n",
    "plt.plot(train_losses, label='Training Loss')"
   ]
  },
  {
   "cell_type": "code",
   "execution_count": null,
   "id": "8c83e281-5a6e-4ac8-8ce1-69330034cdb4",
   "metadata": {
    "scrolled": true
   },
   "outputs": [],
   "source": [
    "val_epochs = list(range(99, len(train_losses), 100))\n",
    "print(f\"{len(val_epochs)}, {len(val_losses)})\")\n"
   ]
  },
  {
   "cell_type": "code",
   "execution_count": null,
   "id": "a220b6bc-9d2e-426d-8258-d840930b73dc",
   "metadata": {},
   "outputs": [],
   "source": [
    "len(train_losses)"
   ]
  },
  {
   "cell_type": "code",
   "execution_count": null,
   "id": "ebfd06ef-a872-445e-a00e-3e942faab40c",
   "metadata": {},
   "outputs": [],
   "source": [
    "# 1. Training and Validation Loss\n",
    "plt.figure(figsize=(10, 5))\n",
    "plt.plot(train_losses, label='Training Loss')\n",
    "\n",
    "# x-values for validation loss should correspond to the epochs where validation was performed\n",
    "val_epochs = list(range(99, len(train_losses), 100))\n",
    "plt.plot(val_epochs, val_losses, label='Validation Loss')\n",
    "plt.show()"
   ]
  },
  {
   "cell_type": "code",
   "execution_count": null,
   "id": "6445bdf4-adaa-4ce0-9b9a-a6f93b53730e",
   "metadata": {},
   "outputs": [],
   "source": []
  }
 ],
 "metadata": {
  "kernelspec": {
   "display_name": "Python 3 (ipykernel)",
   "language": "python",
   "name": "python3"
  },
  "language_info": {
   "codemirror_mode": {
    "name": "ipython",
    "version": 3
   },
   "file_extension": ".py",
   "mimetype": "text/x-python",
   "name": "python",
   "nbconvert_exporter": "python",
   "pygments_lexer": "ipython3",
   "version": "3.10.12"
  }
 },
 "nbformat": 4,
 "nbformat_minor": 5
}
