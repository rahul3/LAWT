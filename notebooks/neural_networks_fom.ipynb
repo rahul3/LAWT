{
 "cells": [
  {
   "cell_type": "markdown",
   "id": "5a18f65e-59ef-4637-b309-2d7acb0c3e4f",
   "metadata": {},
   "source": [
    "## Neural Network Approach For Functions Of Matrices"
   ]
  },
  {
   "cell_type": "code",
   "execution_count": 1,
   "id": "7c09a2d2-4877-4a50-853b-7c3038303eaf",
   "metadata": {},
   "outputs": [],
   "source": [
    "import torch\n",
    "import torch.nn as nn\n",
    "import torch.optim as optim\n",
    "import numpy as np\n",
    "from scipy.linalg import expm\n",
    "import math\n",
    "\n",
    "import matplotlib.pyplot as plt\n",
    "\n",
    "import csv\n",
    "import os\n",
    "\n",
    "import datetime"
   ]
  },
  {
   "cell_type": "code",
   "execution_count": 2,
   "id": "dfd27c9e-0da7-482b-8b09-4bdc54360664",
   "metadata": {},
   "outputs": [],
   "source": [
    "ID = datetime.datetime.strftime(datetime.datetime.now(),'%Y%M%d%s')"
   ]
  },
  {
   "cell_type": "code",
   "execution_count": 3,
   "id": "44205ff2-6f0c-43ae-bbab-8f01acca0aa8",
   "metadata": {},
   "outputs": [],
   "source": [
    "# Create a directory for saving results\n",
    "save_dir = os.path.join(os.getcwd(), 'matrix_exp_results', ID)\n",
    "os.makedirs(save_dir, exist_ok=True)"
   ]
  },
  {
   "cell_type": "code",
   "execution_count": 4,
   "id": "d344e133-2ad1-43c6-8199-051ebe1c357a",
   "metadata": {},
   "outputs": [
    {
     "name": "stdout",
     "output_type": "stream",
     "text": [
      "Using device: cuda\n"
     ]
    }
   ],
   "source": [
    "# Check if CUDA is available and set the device\n",
    "device = torch.device(\"cuda\" if torch.cuda.is_available() else \"cpu\")\n",
    "print(f\"Using device: {device}\")"
   ]
  },
  {
   "cell_type": "code",
   "execution_count": 5,
   "id": "7ee4db68-389c-4782-928e-0d6aa70cc6b1",
   "metadata": {},
   "outputs": [],
   "source": [
    "# Define the neural network\n",
    "class MatrixExponentialNet(nn.Module):\n",
    "    def __init__(self, input_size):\n",
    "        super(MatrixExponentialNet, self).__init__()\n",
    "        self.fc1 = nn.Linear(input_size, 128)\n",
    "        self.fc2 = nn.Linear(128, 256)\n",
    "        self.fc3 = nn.Linear(256, 128)\n",
    "        self.fc4 = nn.Linear(128, input_size)\n",
    "        self.relu = nn.ReLU()\n",
    "\n",
    "    def forward(self, x):\n",
    "        x = self.relu(self.fc1(x))\n",
    "        x = self.relu(self.fc2(x))\n",
    "        x = self.relu(self.fc3(x))\n",
    "        x = self.fc4(x)\n",
    "        return x"
   ]
  },
  {
   "cell_type": "code",
   "execution_count": 6,
   "id": "d6930299-80bc-49a0-8170-8bd411528c6a",
   "metadata": {},
   "outputs": [],
   "source": [
    "# Set random seed for reproducibility\n",
    "torch.manual_seed(42)\n",
    "np.random.seed(42)\n"
   ]
  },
  {
   "cell_type": "code",
   "execution_count": 7,
   "id": "df5969f2-2ad8-41c7-82cb-3214c4278191",
   "metadata": {},
   "outputs": [],
   "source": [
    "# Define input size (5x5 matrix flattened)\n",
    "input_size = 5 * 5"
   ]
  },
  {
   "cell_type": "code",
   "execution_count": 8,
   "id": "78c42f91-27a8-4341-8a6c-25af02fe0f98",
   "metadata": {},
   "outputs": [],
   "source": [
    "# params\n",
    "distribution = \"gaussian\" # or uniform\n",
    "coeff_lower = 0 \n",
    "coeff_upper = 10\n",
    "\n",
    "lr = 1e-5 # learning rate"
   ]
  },
  {
   "cell_type": "code",
   "execution_count": 9,
   "id": "d7c99e62-9299-40ad-beb0-818c3d5dc1c9",
   "metadata": {},
   "outputs": [],
   "source": [
    "# Create the model and move it to GPU\n",
    "model = MatrixExponentialNet(input_size).to(device)"
   ]
  },
  {
   "cell_type": "code",
   "execution_count": 10,
   "id": "562db912-e690-45fd-9e8d-e1d8ef91d741",
   "metadata": {},
   "outputs": [],
   "source": [
    "class MatrixLoss(nn.Module):\n",
    "    def __init__(self, dim=5):\n",
    "        super(MatrixLoss, self).__init__()\n",
    "        self.dim = dim\n",
    "\n",
    "    def forward(self, pred, target):\n",
    "        e = pred - target\n",
    "        e_reshaped = e.view(-1, self.dim, self.dim)\n",
    "        \n",
    "        max_abs = torch.max(torch.abs(e_reshaped).view(e_reshaped.size(0), -1), dim=1)[0]\n",
    "        sum_abs = torch.sum(torch.abs(e_reshaped), dim=(1,2)) / self.dim\n",
    "        trace = torch.sum(e_reshaped ** 2, dim=(1,2)) / self.dim\n",
    "        \n",
    "        loss = max_abs + sum_abs + trace\n",
    "        return loss.mean()"
   ]
  },
  {
   "cell_type": "code",
   "execution_count": 11,
   "id": "1aee4c37-28c9-4fbd-bd59-5541252df010",
   "metadata": {},
   "outputs": [],
   "source": [
    "# Define loss function and optimizer\n",
    "# criterion = nn.MSELoss()\n",
    "criterion = MatrixLoss(dim=5)\n",
    "optimizer = optim.Adam(model.parameters(), lr=lr)"
   ]
  },
  {
   "cell_type": "code",
   "execution_count": 12,
   "id": "0eb4f07e-f323-4909-ba56-baffa113d808",
   "metadata": {},
   "outputs": [],
   "source": [
    "# Function to compute matrix exponential\n",
    "def matrix_exponential(batch_matrices):\n",
    "    return np.array([expm(A) for A in batch_matrices])"
   ]
  },
  {
   "cell_type": "code",
   "execution_count": 13,
   "id": "b1fbace4-69ec-4f72-b469-86abd89a09b5",
   "metadata": {},
   "outputs": [],
   "source": [
    "# Training loop\n",
    "num_epochs = 100000\n",
    "batch_size = 64"
   ]
  },
  {
   "cell_type": "code",
   "execution_count": 14,
   "id": "8d4f019f-7066-4062-b731-a22ff459cdf3",
   "metadata": {},
   "outputs": [],
   "source": [
    "# Lists to store loss values for plotting\n",
    "train_losses = []\n",
    "val_losses = []"
   ]
  },
  {
   "cell_type": "code",
   "execution_count": 15,
   "id": "4106285c-1ba1-4c22-848a-fc0c98bc0946",
   "metadata": {},
   "outputs": [],
   "source": [
    "### Custom Loss function"
   ]
  },
  {
   "cell_type": "code",
   "execution_count": 16,
   "id": "1ee45a1a-def1-48f6-a8a8-efc284f8acdb",
   "metadata": {},
   "outputs": [
    {
     "name": "stdout",
     "output_type": "stream",
     "text": [
      "Epoch [1000/100000], Train Loss: 180,620,623,385,460,736, Val Loss: 2,265,617,797,218,304\n",
      "Epoch [2000/100000], Train Loss: 1,010,911,552,733,184, Val Loss: 17,426,043,240,389,279,744\n",
      "Epoch [3000/100000], Train Loss: 10,054,729,271,290,626,048, Val Loss: 10,001,240,444,370,944\n",
      "Epoch [4000/100000], Train Loss: 191,239,156,662,272, Val Loss: 231,681,909,019,639,808\n",
      "Epoch [5000/100000], Train Loss: 121,470,763,281,678,336, Val Loss: 19,240,031,851,905,024\n",
      "Epoch [6000/100000], Train Loss: 11,191,860,139,655,168, Val Loss: 479,284,426,702,848\n",
      "Epoch [7000/100000], Train Loss: 718,450,170,986,416,308,224, Val Loss: 4,728,012,205,457,408\n",
      "Epoch [8000/100000], Train Loss: 2,673,130,199,842,816, Val Loss: 221,877,473,640,448\n",
      "Epoch [9000/100000], Train Loss: 862,175,033,533,923,328, Val Loss: 52,518,495,023,267,840\n",
      "Epoch [10000/100000], Train Loss: 615,916,246,029,828,096, Val Loss: 603,302,580,453,376\n",
      "Epoch [11000/100000], Train Loss: 443,578,346,815,619,072, Val Loss: 4,392,168,796,819,816,448\n",
      "Epoch [12000/100000], Train Loss: 480,886,288,174,546,944, Val Loss: 2,342,653,404,381,184\n",
      "Epoch [13000/100000], Train Loss: 968,843,690,246,144, Val Loss: 445,282,761,637,363,712\n",
      "Epoch [14000/100000], Train Loss: 10,649,954,418,688, Val Loss: 39,219,072,956,628,992\n",
      "Epoch [15000/100000], Train Loss: 6,634,138,018,775,040, Val Loss: 5,800,752,840,704\n",
      "Epoch [16000/100000], Train Loss: 3,716,123,277,476,581,343,232, Val Loss: 8,214,500,226,367,488\n",
      "Epoch [17000/100000], Train Loss: 994,184,265,728,000, Val Loss: 2,314,109,412,509,220,864\n",
      "Epoch [18000/100000], Train Loss: 4,228,068,348,526,592, Val Loss: 38,268,111,362,719,744\n",
      "Epoch [19000/100000], Train Loss: 1,512,390,592,036,864, Val Loss: 1,947,363,941,810,176\n",
      "Epoch [20000/100000], Train Loss: 51,182,987,552,600,621,056, Val Loss: 5,319,785,185,280\n",
      "Epoch [21000/100000], Train Loss: 9,774,517,710,749,696, Val Loss: 1,865,744,530,800,640\n",
      "Epoch [22000/100000], Train Loss: 1,037,868,058,120,552,448, Val Loss: 3,113,269,053,095,936\n",
      "Epoch [23000/100000], Train Loss: 873,389,921,140,736, Val Loss: 546,685,736,905,080,832\n",
      "Epoch [24000/100000], Train Loss: 2,240,542,033,313,792, Val Loss: 670,566,533,038,080\n",
      "Epoch [25000/100000], Train Loss: 1,861,132,004,360,192, Val Loss: 70,745,936,795,533,312\n",
      "Epoch [26000/100000], Train Loss: 7,851,766,993,341,885,972,480, Val Loss: 116,905,968,960,274,432\n",
      "Epoch [27000/100000], Train Loss: 33,022,614,117,023,744, Val Loss: 19,169,719,148,460,638,208\n",
      "Epoch [28000/100000], Train Loss: 326,211,188,293,632, Val Loss: 23,273,748,299,776\n",
      "Epoch [29000/100000], Train Loss: 261,915,125,219,328, Val Loss: 30,860,516,842,799,104\n",
      "Epoch [30000/100000], Train Loss: 3,493,393,357,659,439,104, Val Loss: 102,033,273,126,912\n",
      "Epoch [31000/100000], Train Loss: 65,595,377,654,431,744, Val Loss: 2,646,325,845,819,392\n",
      "Epoch [32000/100000], Train Loss: 11,088,948,428,275,712, Val Loss: 189,731,417,251,381,248\n",
      "Epoch [33000/100000], Train Loss: 41,105,617,846,272, Val Loss: 12,202,577,613,553,664\n",
      "Epoch [34000/100000], Train Loss: 39,445,254,524,370,944, Val Loss: 164,551,415,564,337,152\n",
      "Epoch [35000/100000], Train Loss: 221,726,545,805,312, Val Loss: 226,368,587,797,889,024\n",
      "Epoch [36000/100000], Train Loss: 219,359,063,731,863,552, Val Loss: 6,046,433,484,472,320\n",
      "Epoch [37000/100000], Train Loss: 1,560,235,722,407,936, Val Loss: 2,179,331,098,935,296\n",
      "Epoch [38000/100000], Train Loss: 2,798,479,088,812,032, Val Loss: 7,949,043,867,058,176\n",
      "Epoch [39000/100000], Train Loss: 353,287,688,893,235,200, Val Loss: 2,751,889,587,834,978,304\n",
      "Epoch [40000/100000], Train Loss: 9,342,349,511,491,584, Val Loss: 321,998,302,386,061,312\n",
      "Epoch [41000/100000], Train Loss: 6,265,570,768,977,920, Val Loss: 5,877,492,499,494,090,047,488\n",
      "Epoch [42000/100000], Train Loss: 26,788,338,571,413,553,152, Val Loss: 16,625,208,131,584\n",
      "Epoch [43000/100000], Train Loss: 197,873,941,610,496, Val Loss: 821,788,640,542,720\n",
      "Epoch [44000/100000], Train Loss: 1,679,035,591,557,120, Val Loss: 5,958,508,524,601,344\n",
      "Epoch [45000/100000], Train Loss: 323,188,470,841,344, Val Loss: 108,472,886,573,924,352\n",
      "Epoch [46000/100000], Train Loss: 2,001,884,806,421,413,888, Val Loss: 346,458,066,780,160\n",
      "Epoch [47000/100000], Train Loss: 5,644,049,809,670,144, Val Loss: 1,272,534,076,057,714,688\n",
      "Epoch [48000/100000], Train Loss: 5,577,478,353,453,056, Val Loss: 1,297,434,853,330,911,232\n",
      "Epoch [49000/100000], Train Loss: 671,780,465,278,976, Val Loss: 984,254,368,448,512\n",
      "Epoch [50000/100000], Train Loss: 30,505,396,061,863,936, Val Loss: 764,362,685,285,400,576\n",
      "Epoch [51000/100000], Train Loss: 8,610,564,393,664,512, Val Loss: 16,540,944,480,337,920\n",
      "Epoch [52000/100000], Train Loss: 208,873,218,637,824, Val Loss: 83,814,926,960,434,348,032\n",
      "Epoch [53000/100000], Train Loss: 4,097,559,054,203,748,352, Val Loss: 17,579,851,722,975,608,832\n",
      "Epoch [54000/100000], Train Loss: 268,497,256,250,062,405,632, Val Loss: 1,691,378,656,477,184\n",
      "Epoch [55000/100000], Train Loss: 47,558,248,366,080, Val Loss: 557,906,084,757,504\n",
      "Epoch [56000/100000], Train Loss: 118,109,620,928,512, Val Loss: 14,137,121,077,985,280\n",
      "Epoch [57000/100000], Train Loss: 3,455,392,457,687,040, Val Loss: 3,986,114,855,567,360\n",
      "Epoch [58000/100000], Train Loss: 408,747,021,038,518,272, Val Loss: 81,675,274,236,557,508,214,784\n",
      "Epoch [59000/100000], Train Loss: 42,566,269,819,420,672, Val Loss: 2,292,702,397,857,792\n",
      "Epoch [60000/100000], Train Loss: 511,165,163,634,688, Val Loss: 4,629,349,290,475,520\n",
      "Epoch [61000/100000], Train Loss: 2,335,958,357,820,571,648, Val Loss: 43,978,420,706,607,104\n",
      "Epoch [62000/100000], Train Loss: 343,851,659,165,696, Val Loss: 7,885,392,829,688,578,048\n",
      "Epoch [63000/100000], Train Loss: 8,512,851,680,067,321,856, Val Loss: 2,614,964,799,930,368\n",
      "Epoch [64000/100000], Train Loss: 1,225,246,279,970,324,480, Val Loss: 199,918,358,122,987,520\n",
      "Epoch [65000/100000], Train Loss: 12,463,840,474,169,344, Val Loss: 54,192,561,606,098,944\n",
      "Epoch [66000/100000], Train Loss: 28,034,857,959,424, Val Loss: 3,735,409,885,706,190,848\n",
      "Epoch [67000/100000], Train Loss: 176,984,410,889,056,681,984, Val Loss: 75,426,471,895,629,824\n",
      "Epoch [68000/100000], Train Loss: 103,168,619,143,233,536, Val Loss: 175,461,057,429,504\n",
      "Epoch [69000/100000], Train Loss: 10,901,698,471,329,267,712, Val Loss: 9,049,517,567,508,480\n",
      "Epoch [70000/100000], Train Loss: 1,323,318,996,420,595,286,016, Val Loss: 1,939,472,953,016,057,856\n",
      "Epoch [71000/100000], Train Loss: 381,009,400,954,880, Val Loss: 29,475,041,747,624,110,587,904\n",
      "Epoch [72000/100000], Train Loss: 635,238,145,327,104, Val Loss: 1,649,127,184,138,240\n",
      "Epoch [73000/100000], Train Loss: 5,474,849,573,044,224, Val Loss: 977,013,053,587,456\n",
      "Epoch [74000/100000], Train Loss: 24,398,391,718,768,017,408, Val Loss: 2,379,499,123,507,200\n",
      "Epoch [75000/100000], Train Loss: 1,002,039,303,498,366,976, Val Loss: 1,073,886,376,493,056\n",
      "Epoch [76000/100000], Train Loss: 114,115,888,545,792, Val Loss: 955,312,597,106,688\n",
      "Epoch [77000/100000], Train Loss: 8,705,729,888,256, Val Loss: 436,755,861,864,448\n",
      "Epoch [78000/100000], Train Loss: 105,658,326,188,032, Val Loss: 18,696,340,766,720\n",
      "Epoch [79000/100000], Train Loss: 243,530,521,198,460,928, Val Loss: 293,699,965,463,560,192\n",
      "Epoch [80000/100000], Train Loss: 2,056,267,937,873,920, Val Loss: 199,407,531,892,670,464\n",
      "Epoch [81000/100000], Train Loss: 157,539,501,080,576, Val Loss: 268,094,126,359,052,288\n",
      "Epoch [82000/100000], Train Loss: 124,229,680,889,856, Val Loss: 849,975,539,706,888,192\n",
      "Epoch [83000/100000], Train Loss: 3,953,196,347,162,624, Val Loss: 46,420,558,490,005,143,552\n",
      "Epoch [84000/100000], Train Loss: 50,150,958,725,857,280, Val Loss: 17,051,957,541,732,352\n",
      "Epoch [85000/100000], Train Loss: 43,038,905,200,541,696, Val Loss: 29,503,094,576,381,952\n",
      "Epoch [86000/100000], Train Loss: 13,914,142,482,104,320, Val Loss: 7,462,646,336,978,944\n",
      "Epoch [87000/100000], Train Loss: 55,218,635,031,189,651,456, Val Loss: 568,423,083,933,696\n",
      "Epoch [88000/100000], Train Loss: 192,091,388,903,424, Val Loss: 10,351,524,843,022,712,832\n",
      "Epoch [89000/100000], Train Loss: 7,475,609,622,020,096, Val Loss: 1,731,616,326,025,216\n",
      "Epoch [90000/100000], Train Loss: 19,579,745,075,200, Val Loss: 2,245,158,720,503,808\n",
      "Epoch [91000/100000], Train Loss: 71,449,775,702,016, Val Loss: 17,881,880,970,055,909,376\n",
      "Epoch [92000/100000], Train Loss: 446,185,663,889,408, Val Loss: 331,243,648,987,430,912\n",
      "Epoch [93000/100000], Train Loss: 2,750,087,692,288,000, Val Loss: 13,776,834,525,134,848\n",
      "Epoch [94000/100000], Train Loss: 608,796,984,475,648, Val Loss: 365,542,536,258,781,184\n",
      "Epoch [95000/100000], Train Loss: 6,263,882,309,959,680, Val Loss: 107,936,989,416,909,701,120\n",
      "Epoch [96000/100000], Train Loss: 5,927,945,000,452,096, Val Loss: 592,397,255,835,648\n",
      "Epoch [97000/100000], Train Loss: 192,853,446,158,712,832, Val Loss: 1,307,783,852,982,272\n",
      "Epoch [98000/100000], Train Loss: 128,472,999,526,400, Val Loss: 7,925,884,866,527,232\n",
      "Epoch [99000/100000], Train Loss: 73,501,469,835,264, Val Loss: 32,689,350,424,657,920\n",
      "Epoch [100000/100000], Train Loss: 217,389,752,909,824, Val Loss: 1,414,354,473,844,736\n"
     ]
    }
   ],
   "source": [
    "for epoch in range(num_epochs):\n",
    "    model.train()\n",
    "    # Generate random 5x5 matrices\n",
    "    if distribution == \"gaussian\":\n",
    "        A = np.random.randn(batch_size, 5, 5)\n",
    "        A = np.array(coeff_upper / math.sqrt(3.0) * A)\n",
    "    elif distribution == \"uniform\":\n",
    "        A = np.random.rand(batch_size, 5, 5)\n",
    "        A = np.array(max_coeff * (2 * A - 1))\n",
    "    else:\n",
    "        raise TypeError(\"Unsupported distribution\")\n",
    "\n",
    "    \n",
    "    # Calculate exp(A)\n",
    "    A_exp = matrix_exponential(A)\n",
    "    \n",
    "    # Convert to PyTorch tensors and move to GPU\n",
    "    A_tensor = torch.FloatTensor(A).view(batch_size, -1).to(device)\n",
    "    A_exp_tensor = torch.FloatTensor(A_exp).view(batch_size, -1).to(device)\n",
    "    \n",
    "    # Forward pass\n",
    "    output = model(A_tensor)\n",
    "    \n",
    "    # Compute loss\n",
    "    loss = criterion(output, A_exp_tensor)\n",
    "    \n",
    "    # Backward pass and optimize\n",
    "    optimizer.zero_grad()\n",
    "    loss.backward()\n",
    "    optimizer.step()\n",
    "    \n",
    "    train_losses.append(loss.item())\n",
    "    \n",
    "    # Validation step\n",
    "    if (epoch + 1) % 1000 == 0:\n",
    "        model.eval()\n",
    "        with torch.no_grad():\n",
    "            if distribution == \"gaussian\":\n",
    "                A_val = np.random.randn(batch_size, 5, 5)\n",
    "                A_val = np.array(coeff_upper / math.sqrt(3.0) * A_val)\n",
    "            elif distribution == \"uniform\":\n",
    "                A_val = np.random.rand(batch_size, 5, 5)\n",
    "                A_val = np.array(max_coeff * (2 * A_val - 1))\n",
    "            else:\n",
    "                raise TypeError(\"Unsupported distribution\")\n",
    "            # A_val = np.random.randn(batch_size, 5, 5)\n",
    "            A_exp_val = matrix_exponential(A_val)\n",
    "            A_val_tensor = torch.FloatTensor(A_val).view(batch_size, -1).to(device)\n",
    "            A_exp_val_tensor = torch.FloatTensor(A_exp_val).view(batch_size, -1).to(device)\n",
    "            val_output = model(A_val_tensor)\n",
    "            val_loss = criterion(val_output, A_exp_val_tensor)\n",
    "            val_losses.append(val_loss.item())\n",
    "        \n",
    "        # print(f'Epoch [{epoch+1}/{num_epochs}], Train Loss: {loss.item():.4f}, Val Loss: {val_loss.item():.4f}')\n",
    "        print(f'Epoch [{epoch+1}/{num_epochs}], Train Loss: {loss.item():,.0f}, Val Loss: {val_loss.item():,.0f}')"
   ]
  },
  {
   "cell_type": "code",
   "execution_count": 18,
   "id": "b06dec0b-af74-41de-8f90-bd21bde35fab",
   "metadata": {},
   "outputs": [],
   "source": [
    "# Save the model\n",
    "torch.save(model.state_dict(), os.path.join(save_dir, 'matrix_exp_model.pth'))\n",
    "\n",
    "# Save loss lists\n",
    "with open(os.path.join(save_dir, 'losses.csv'), 'w', newline='') as f:\n",
    "    writer = csv.writer(f)\n",
    "    writer.writerow(['Epoch', 'Train Loss', 'Validation Loss'])\n",
    "    for i, (train_loss, val_loss) in enumerate(zip(train_losses, val_losses)):\n",
    "        writer.writerow([i*100, train_loss, val_loss])"
   ]
  },
  {
   "cell_type": "code",
   "execution_count": 32,
   "id": "af594b89-db17-4df0-b487-6f9f2596515e",
   "metadata": {},
   "outputs": [
    {
     "name": "stdout",
     "output_type": "stream",
     "text": [
      "Test Loss: 288444631385546686464.0000\n",
      "\n",
      "Example 1:\n",
      "Input matrix A:\n",
      "[[-7.23298373  4.11937364  0.62292664 10.87093629  2.23151741]\n",
      " [-9.34260493  2.45402435 -8.81392734 11.6679538   0.55533743]\n",
      " [ 1.56310919  3.59035193  0.21397936 -0.89488649  7.31673767]\n",
      " [-1.98572003 -2.0223425   2.89372622 -1.26827436  2.78360117]\n",
      " [-4.56090561 -1.6887625  -6.67626007 -8.77067973 11.271082  ]]\n",
      "Actual exp(A):\n",
      "[[ -27.60059757   -3.45730879  -15.03111203  -28.43807304   84.83178887]\n",
      " [  52.86914709  -19.34610802  -31.17581161  -40.07877875 -129.02466706]\n",
      " [ -59.57515951  -44.54067321 -119.18571563 -198.83272412  232.43273761]\n",
      " [ -41.2853674     2.74294756   -4.092044    -13.7943263   116.83385837]\n",
      " [ -23.97514238  -93.78521651 -224.13214111 -359.25119788  194.35281548]]\n",
      "Predicted exp(A):\n",
      "[[153.07974      5.3753395    4.208857    10.757149    -3.3333933 ]\n",
      " [ -3.9509356  128.31146    -18.850147   -25.016426     4.0324264 ]\n",
      " [ 12.163473     2.704027   150.36699     -0.15654051  -9.265894  ]\n",
      " [ 29.056732    15.793774   -18.640957   152.23584      9.975743  ]\n",
      " [ -4.9772153  -32.606014   -14.243397    20.544352   147.81447   ]]\n",
      "\n",
      "Example 2:\n",
      "Input matrix A:\n",
      "[[-8.12487679e+00  9.52960564e+00 -1.68241355e+00 -9.82567196e+00\n",
      "   4.09068925e-03]\n",
      " [-4.31941290e+00 -2.84539900e+00  8.57413041e-01 -4.89060031e+00\n",
      "  -1.06947726e+00]\n",
      " [-8.86451866e+00  1.09583566e+01 -6.23748910e+00  4.95512680e+00\n",
      "  -3.48754135e-01]\n",
      " [ 2.58201822e+00 -2.45321592e+00 -3.06180786e+00 -3.01388110e+00\n",
      "   7.21432351e+00]\n",
      " [ 4.40259778e+00 -2.14436197e+00 -3.02307188e+00  1.08742243e+01\n",
      "   4.68016998e-02]]\n",
      "Actual exp(A):\n",
      "[[  8.37600679  -5.35328814  -5.47600813   9.11899241  11.22200266]\n",
      " [  5.01267979  -0.78248328  -3.04099186   0.81638841   4.87797691]\n",
      " [  0.72206407   5.13365737   0.07086082  -9.9249924   -3.26699618]\n",
      " [ -9.98575915   3.9504248    6.28949089  -6.20259303 -11.5251091 ]\n",
      " [-13.25893911   5.81883777   8.40560527  -9.3280539  -15.731626  ]]\n",
      "Predicted exp(A):\n",
      "[[ 96.58817      3.0542703    2.3465436    6.563676    -2.0529692 ]\n",
      " [ -2.6502326   80.654884   -11.831783   -16.35377      2.2818413 ]\n",
      " [  7.1832128    2.281039    94.7781       0.43460405  -5.8944035 ]\n",
      " [ 17.762573    10.042794   -10.747179    95.96367      6.6631985 ]\n",
      " [ -3.149293   -20.565052    -9.258624    13.269154    92.612785  ]]\n",
      "\n",
      "Example 3:\n",
      "Input matrix A:\n",
      "[[  2.52052402   0.02037913   5.81899754  -0.67613911  -1.76646987]\n",
      " [  6.45382981   2.5958953   -2.81030072  -3.53435011   4.47495296]\n",
      " [ -7.65183635   4.64365661  -0.7892912   -3.71422936  -6.59427977]\n",
      " [ -9.55048343   1.60231064 -10.92782078  -0.2208441   -1.91209612]\n",
      " [ -0.25335605  -1.03774264   3.5210257    4.72014907  -7.39589705]]\n",
      "Actual exp(A):\n",
      "[[ 1156.77685719  1148.79689881  1988.89934837 -1572.90285714\n",
      "   -431.556939  ]\n",
      " [ 1536.0278847   1522.68114816  2635.23680555 -2083.22401789\n",
      "   -572.11975988]\n",
      " [  886.24169901   879.34216466  1521.67393187 -1203.13265019\n",
      "   -330.11673793]\n",
      " [-1911.45565953 -1899.28301381 -3288.01384397  2600.55643318\n",
      "    713.13320661]\n",
      " [ -478.90794687  -476.31251831  -824.99544802   652.66330985\n",
      "    178.96218163]]\n",
      "Predicted exp(A):\n",
      "[[103.15081     3.1700258   3.3694923   6.9047136  -2.4951708]\n",
      " [ -2.5446231  87.56169   -12.919589  -17.066582    3.9679008]\n",
      " [  8.67989     1.2008376 102.39739    -1.4328072  -6.64752  ]\n",
      " [ 18.947826   10.354527  -13.721397  103.07967     5.9795375]\n",
      " [ -3.213307  -21.929722   -9.794369   13.055122   98.62206  ]]\n"
     ]
    }
   ],
   "source": [
    "# Evaluation\n",
    "model.eval()\n",
    "with torch.no_grad():\n",
    "    # Generate test matrices\n",
    "    num_test = 1000\n",
    "\n",
    "    if distribution == \"gaussian\":\n",
    "        A_test = np.random.randn(num_test, 5, 5)\n",
    "        A_test = np.array(coeff_upper / math.sqrt(3.0) * A_test)\n",
    "    elif distribution == \"uniform\":\n",
    "        A_test = np.random.rand(num_test, 5, 5)\n",
    "        A_test = np.array(max_coeff * (2 * A_test - 1))\n",
    "    else:\n",
    "        raise TypeError(\"Unsupported distributon.\")\n",
    "    \n",
    "    A_exp_test = matrix_exponential(A_test)\n",
    "    \n",
    "    # Convert to PyTorch tensors and move to GPU\n",
    "    A_test_tensor = torch.FloatTensor(A_test).view(num_test, -1).to(device)\n",
    "    A_exp_test_tensor = torch.FloatTensor(A_exp_test).view(num_test, -1).to(device)\n",
    "    \n",
    "    # Get model predictions\n",
    "    predictions = model(A_test_tensor)\n",
    "    \n",
    "    # Compute test loss\n",
    "    test_loss = criterion(predictions, A_exp_test_tensor)\n",
    "    print(f'Test Loss: {test_loss.item():.4f}')\n",
    "    \n",
    "    # Compare a few results\n",
    "    for i in range(3):\n",
    "        print(f\"\\nExample {i+1}:\")\n",
    "        print(\"Input matrix A:\")\n",
    "        print(A_test[i])\n",
    "        print(\"Actual exp(A):\")\n",
    "        print(A_exp_test[i])\n",
    "        print(\"Predicted exp(A):\")\n",
    "        print(predictions[i].view(5, 5).cpu().numpy())"
   ]
  },
  {
   "cell_type": "code",
   "execution_count": 33,
   "id": "070161c7-cec1-4d6d-9041-78ac3ac696bc",
   "metadata": {},
   "outputs": [],
   "source": [
    "# Save test data and evaluations\n",
    "with open(os.path.join(save_dir, 'test_data_and_evaluations.csv'), 'w', newline='') as f:\n",
    "    writer = csv.writer(f)\n",
    "    writer.writerow(['Test Matrix', 'Actual exp(A)', 'Predicted exp(A)', 'Error'])\n",
    "    for i in range(num_test):\n",
    "        pred = predictions[i].cpu().numpy().flatten()\n",
    "        actual = A_exp_test[i].flatten()\n",
    "        writer.writerow([\n",
    "            A_test[i].flatten().tolist(),\n",
    "            actual.tolist(),\n",
    "            pred.tolist(),\n",
    "            (pred - actual).tolist()\n",
    "        ])"
   ]
  },
  {
   "cell_type": "code",
   "execution_count": 34,
   "id": "9b9a87d3-6aec-47d9-8089-f1abee44e5bc",
   "metadata": {},
   "outputs": [
    {
     "name": "stdout",
     "output_type": "stream",
     "text": [
      "len(train_losses)=100000\n",
      "len(val_losses)=100\n"
     ]
    }
   ],
   "source": [
    "print(f\"{len(train_losses)=}\\n{len(val_losses)=}\")"
   ]
  },
  {
   "cell_type": "code",
   "execution_count": 35,
   "id": "3e6af7aa-ec5b-4d8b-beb2-4dfe387badb9",
   "metadata": {},
   "outputs": [],
   "source": [
    "# Visualizations\n",
    "\n",
    "# 1. Training and Validation Loss\n",
    "plt.figure(figsize=(10, 5))\n",
    "plt.plot(train_losses, label='Training Loss')\n",
    "plt.plot(range(99, len(train_losses), 1000), val_losses, label='Validation Loss')\n",
    "plt.xlabel('Epochs')\n",
    "plt.ylabel('Loss')\n",
    "plt.title('Training and Validation Loss over Epochs')\n",
    "plt.legend()\n",
    "plt.yscale('log')\n",
    "plt.grid(True)\n",
    "plt.savefig(os.path.join(save_dir, 'loss_plot.png'))\n",
    "plt.close()"
   ]
  },
  {
   "cell_type": "code",
   "execution_count": 36,
   "id": "91276c0f-830d-44f3-b67d-6d9dfe795b70",
   "metadata": {},
   "outputs": [],
   "source": [
    "# 2. Histogram of Errors\n",
    "errors = (predictions - A_exp_test_tensor).cpu().numpy().flatten()\n",
    "plt.figure(figsize=(10, 5))\n",
    "plt.hist(errors, bins=50)\n",
    "plt.xlabel('Error')\n",
    "plt.ylabel('Frequency')\n",
    "plt.title('Histogram of Errors')\n",
    "plt.savefig(os.path.join(save_dir, 'error_histogram.png'))\n",
    "plt.close()\n"
   ]
  },
  {
   "cell_type": "code",
   "execution_count": 37,
   "id": "5bf46488-513f-4913-9336-6d81c56e81d2",
   "metadata": {},
   "outputs": [],
   "source": [
    "# 3. Predicted vs Actual Values\n",
    "plt.figure(figsize=(10, 10))\n",
    "plt.scatter(A_exp_test_tensor.cpu().numpy().flatten(), predictions.cpu().numpy().flatten(), alpha=0.5)\n",
    "plt.plot([A_exp_test_tensor.cpu().numpy().min(), A_exp_test_tensor.cpu().numpy().max()], \n",
    "         [A_exp_test_tensor.cpu().numpy().min(), A_exp_test_tensor.cpu().numpy().max()], \n",
    "         'r--', lw=2)\n",
    "plt.xlabel('Actual Values')\n",
    "plt.ylabel('Predicted Values')\n",
    "plt.title('Predicted vs Actual Values')\n",
    "plt.savefig(os.path.join(save_dir, 'predicted_vs_actual.png'))\n",
    "plt.close()"
   ]
  },
  {
   "cell_type": "code",
   "execution_count": 38,
   "id": "2ed70a78-bbf1-44be-8a0b-6756bdbe4363",
   "metadata": {},
   "outputs": [],
   "source": [
    "# 4. Example Comparison\n",
    "example_idx = 0\n",
    "actual = A_exp_test[example_idx]\n",
    "predicted = predictions[example_idx].view(5, 5).cpu().numpy()"
   ]
  },
  {
   "cell_type": "code",
   "execution_count": 39,
   "id": "9fbb3f4b-3fbe-44d8-bdd9-2d55512f0631",
   "metadata": {},
   "outputs": [
    {
     "data": {
      "text/plain": [
       "<matplotlib.colorbar.Colorbar at 0x7ac014350f70>"
      ]
     },
     "execution_count": 39,
     "metadata": {},
     "output_type": "execute_result"
    },
    {
     "data": {
      "image/png": "[encoded data removed]",
      "text/plain": [
       "<Figure size 1500x700 with 3 Axes>"
      ]
     },
     "metadata": {},
     "output_type": "display_data"
    }
   ],
   "source": [
    "fig, (ax1, ax2) = plt.subplots(1, 2, figsize=(15, 7))\n",
    "im1 = ax1.imshow(actual, cmap='viridis')\n",
    "ax1.set_title('Actual exp(A)')\n",
    "plt.colorbar(im1, ax=ax1)"
   ]
  },
  {
   "cell_type": "code",
   "execution_count": 40,
   "id": "07869f14-7e6b-45b0-91fd-4dc9c21d6b55",
   "metadata": {},
   "outputs": [
    {
     "data": {
      "text/plain": [
       "<matplotlib.colorbar.Colorbar at 0x7ac016fbca00>"
      ]
     },
     "execution_count": 40,
     "metadata": {},
     "output_type": "execute_result"
    },
    {
     "data": {
      "text/plain": [
       "<Figure size 640x480 with 0 Axes>"
      ]
     },
     "metadata": {},
     "output_type": "display_data"
    }
   ],
   "source": [
    "im2 = ax2.imshow(predicted, cmap='viridis')\n",
    "ax2.set_title('Predicted exp(A)')\n",
    "plt.colorbar(im2, ax=ax2)"
   ]
  },
  {
   "cell_type": "code",
   "execution_count": 41,
   "id": "10a85347-6dba-4150-b4d6-d2350e634b6f",
   "metadata": {},
   "outputs": [
    {
     "name": "stdout",
     "output_type": "stream",
     "text": [
      "Visualizations have been saved as PNG files.\n"
     ]
    }
   ],
   "source": [
    "plt.savefig(os.path.join(save_dir, 'example_comparison.png'))\n",
    "plt.close()\n",
    "\n",
    "print(\"Visualizations have been saved as PNG files.\")"
   ]
  },
  {
   "cell_type": "code",
   "execution_count": null,
   "id": "00d37e5e-001a-42c1-9729-28360ab9468f",
   "metadata": {},
   "outputs": [],
   "source": []
  },
  {
   "cell_type": "code",
   "execution_count": 42,
   "id": "6445bdf4-adaa-4ce0-9b9a-a6f93b53730e",
   "metadata": {},
   "outputs": [
    {
     "data": {
      "text/plain": [
       "'/home/rahulpadmanabhan/Development/ws1/masters_thesis_2/LAWT/notebooks/matrix_exp_results/202405161723781116'"
      ]
     },
     "execution_count": 42,
     "metadata": {},
     "output_type": "execute_result"
    }
   ],
   "source": [
    "save_dir"
   ]
  },
  {
   "cell_type": "code",
   "execution_count": null,
   "id": "98c13e4f-5687-48dc-804e-31055985a772",
   "metadata": {},
   "outputs": [],
   "source": []
  }
 ],
 "metadata": {
  "kernelspec": {
   "display_name": "Python 3 (ipykernel)",
   "language": "python",
   "name": "python3"
  },
  "language_info": {
   "codemirror_mode": {
    "name": "ipython",
    "version": 3
   },
   "file_extension": ".py",
   "mimetype": "text/x-python",
   "name": "python",
   "nbconvert_exporter": "python",
   "pygments_lexer": "ipython3",
   "version": "3.10.12"
  }
 },
 "nbformat": 4,
 "nbformat_minor": 5
}
